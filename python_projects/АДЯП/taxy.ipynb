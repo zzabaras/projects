{
 "cells": [
  {
   "cell_type": "markdown",
   "metadata": {},
   "source": [
    "### Знайомство з задачею\n",
    "Ваши коллеги из Навигатора собрали необходимые данные и прислали их в таком виде:\n",
    "Зашифрованное наименование сети АЗС (столбец name): вместо брендов — названия растений;\n",
    "Уникальный идентификатор конкретной АЗС (столбец id) — в сети их много;\n",
    "Время заезда на АЗС (столбец date_time) в формате ISO: 20190405T165358 означает, что водитель прибыл на заправку 5 апреля 2019 года в 16 часов 53 минуты 58 секунд по UTC.\n",
    "Проведённое на АЗС время (столбец time_spent) в секундах.\n",
    "Нужно ответить на вопрос, сколько в среднем времени тратят водители на заправку в каждой из сетей АЗС.\n",
    "\n",
    "Колеги прислали дані з назвами колонок:\n",
    "    "
   ]
  },
  {
   "cell_type": "code",
   "execution_count": 1,
   "metadata": {},
   "outputs": [],
   "source": [
    "import pandas as pd \n",
    "import matplotlib.pyplot as plt "
   ]
  },
  {
   "cell_type": "code",
   "execution_count": null,
   "metadata": {},
   "outputs": [
    {
     "data": {
      "text/html": [
       "<div>\n",
       "<style scoped>\n",
       "    .dataframe tbody tr th:only-of-type {\n",
       "        vertical-align: middle;\n",
       "    }\n",
       "\n",
       "    .dataframe tbody tr th {\n",
       "        vertical-align: top;\n",
       "    }\n",
       "\n",
       "    .dataframe thead th {\n",
       "        text-align: right;\n",
       "    }\n",
       "</style>\n",
       "<table border=\"1\" class=\"dataframe\">\n",
       "  <thead>\n",
       "    <tr style=\"text-align: right;\">\n",
       "      <th></th>\n",
       "      <th>date_time</th>\n",
       "      <th>id</th>\n",
       "      <th>time_spent</th>\n",
       "      <th>name</th>\n",
       "    </tr>\n",
       "  </thead>\n",
       "  <tbody>\n",
       "    <tr>\n",
       "      <th>0</th>\n",
       "      <td>20180406T165358</td>\n",
       "      <td>76144fb2</td>\n",
       "      <td>98.0</td>\n",
       "      <td>Василёк</td>\n",
       "    </tr>\n",
       "    <tr>\n",
       "      <th>1</th>\n",
       "      <td>20180404T173913</td>\n",
       "      <td>76144fb2</td>\n",
       "      <td>15.0</td>\n",
       "      <td>Василёк</td>\n",
       "    </tr>\n",
       "    <tr>\n",
       "      <th>2</th>\n",
       "      <td>20180403T172824</td>\n",
       "      <td>76144fb2</td>\n",
       "      <td>220.0</td>\n",
       "      <td>Василёк</td>\n",
       "    </tr>\n",
       "    <tr>\n",
       "      <th>3</th>\n",
       "      <td>20180407T070441</td>\n",
       "      <td>76144fb2</td>\n",
       "      <td>19.0</td>\n",
       "      <td>Василёк</td>\n",
       "    </tr>\n",
       "    <tr>\n",
       "      <th>4</th>\n",
       "      <td>20180404T132049</td>\n",
       "      <td>76144fb2</td>\n",
       "      <td>14.0</td>\n",
       "      <td>Василёк</td>\n",
       "    </tr>\n",
       "  </tbody>\n",
       "</table>\n",
       "</div>"
      ],
      "text/plain": [
       "         date_time        id  time_spent     name\n",
       "0  20180406T165358  76144fb2        98.0  Василёк\n",
       "1  20180404T173913  76144fb2        15.0  Василёк\n",
       "2  20180403T172824  76144fb2       220.0  Василёк\n",
       "3  20180407T070441  76144fb2        19.0  Василёк\n",
       "4  20180404T132049  76144fb2        14.0  Василёк"
      ]
     },
     "execution_count": 3,
     "metadata": {},
     "output_type": "execute_result"
    }
   ],
   "source": [
    "data = pd.read_csv('./data/visits.csv', sep='\\t') # separator is tab\n",
    "data.head()"
   ]
  },
  {
   "cell_type": "code",
   "execution_count": null,
   "metadata": {},
   "outputs": [],
   "source": [
    "data.info()"
   ]
  },
  {
   "cell_type": "code",
   "execution_count": null,
   "metadata": {},
   "outputs": [],
   "source": [
    "data['date_time'] = pd.to_datetime(data['date_time'])   \n",
    "data.info()"
   ]
  },
  {
   "cell_type": "markdown",
   "metadata": {},
   "source": [
    "Скільки часу в середньому проводять автомобілі на заправці? (секунд)"
   ]
  },
  {
   "cell_type": "code",
   "execution_count": 43,
   "metadata": {},
   "outputs": [
    {
     "data": {
      "text/html": [
       "<div>\n",
       "<style scoped>\n",
       "    .dataframe tbody tr th:only-of-type {\n",
       "        vertical-align: middle;\n",
       "    }\n",
       "\n",
       "    .dataframe tbody tr th {\n",
       "        vertical-align: top;\n",
       "    }\n",
       "\n",
       "    .dataframe thead th {\n",
       "        text-align: right;\n",
       "    }\n",
       "</style>\n",
       "<table border=\"1\" class=\"dataframe\">\n",
       "  <thead>\n",
       "    <tr style=\"text-align: right;\">\n",
       "      <th></th>\n",
       "      <th>name</th>\n",
       "      <th>time_spent</th>\n",
       "    </tr>\n",
       "  </thead>\n",
       "  <tbody>\n",
       "    <tr>\n",
       "      <th>31</th>\n",
       "      <td>Нарцисс</td>\n",
       "      <td>68.166758</td>\n",
       "    </tr>\n",
       "    <tr>\n",
       "      <th>3</th>\n",
       "      <td>Арктотис</td>\n",
       "      <td>73.879984</td>\n",
       "    </tr>\n",
       "    <tr>\n",
       "      <th>29</th>\n",
       "      <td>Малопа</td>\n",
       "      <td>76.070543</td>\n",
       "    </tr>\n",
       "    <tr>\n",
       "      <th>27</th>\n",
       "      <td>Лобулярия</td>\n",
       "      <td>96.834350</td>\n",
       "    </tr>\n",
       "    <tr>\n",
       "      <th>8</th>\n",
       "      <td>Белоцветник</td>\n",
       "      <td>100.818966</td>\n",
       "    </tr>\n",
       "    <tr>\n",
       "      <th>17</th>\n",
       "      <td>Годеция</td>\n",
       "      <td>113.958333</td>\n",
       "    </tr>\n",
       "    <tr>\n",
       "      <th>22</th>\n",
       "      <td>Колокольчик</td>\n",
       "      <td>119.131564</td>\n",
       "    </tr>\n",
       "    <tr>\n",
       "      <th>33</th>\n",
       "      <td>Незабудка</td>\n",
       "      <td>120.362398</td>\n",
       "    </tr>\n",
       "    <tr>\n",
       "      <th>1</th>\n",
       "      <td>Амарант</td>\n",
       "      <td>132.760012</td>\n",
       "    </tr>\n",
       "    <tr>\n",
       "      <th>42</th>\n",
       "      <td>Фасоль</td>\n",
       "      <td>133.631957</td>\n",
       "    </tr>\n",
       "    <tr>\n",
       "      <th>5</th>\n",
       "      <td>Бальзамин</td>\n",
       "      <td>134.508411</td>\n",
       "    </tr>\n",
       "    <tr>\n",
       "      <th>30</th>\n",
       "      <td>Мальва</td>\n",
       "      <td>136.562234</td>\n",
       "    </tr>\n",
       "    <tr>\n",
       "      <th>35</th>\n",
       "      <td>Обриета</td>\n",
       "      <td>141.777778</td>\n",
       "    </tr>\n",
       "    <tr>\n",
       "      <th>6</th>\n",
       "      <td>Бархатцы</td>\n",
       "      <td>145.300328</td>\n",
       "    </tr>\n",
       "    <tr>\n",
       "      <th>32</th>\n",
       "      <td>Настурция</td>\n",
       "      <td>154.859694</td>\n",
       "    </tr>\n",
       "    <tr>\n",
       "      <th>12</th>\n",
       "      <td>Гацания</td>\n",
       "      <td>160.685185</td>\n",
       "    </tr>\n",
       "    <tr>\n",
       "      <th>7</th>\n",
       "      <td>Бегония</td>\n",
       "      <td>163.200647</td>\n",
       "    </tr>\n",
       "    <tr>\n",
       "      <th>23</th>\n",
       "      <td>Космос</td>\n",
       "      <td>164.867797</td>\n",
       "    </tr>\n",
       "    <tr>\n",
       "      <th>16</th>\n",
       "      <td>Георгина</td>\n",
       "      <td>166.615555</td>\n",
       "    </tr>\n",
       "    <tr>\n",
       "      <th>14</th>\n",
       "      <td>Гейхера</td>\n",
       "      <td>167.445947</td>\n",
       "    </tr>\n",
       "    <tr>\n",
       "      <th>20</th>\n",
       "      <td>Ирис</td>\n",
       "      <td>179.931159</td>\n",
       "    </tr>\n",
       "    <tr>\n",
       "      <th>38</th>\n",
       "      <td>Подснежник</td>\n",
       "      <td>180.286207</td>\n",
       "    </tr>\n",
       "    <tr>\n",
       "      <th>34</th>\n",
       "      <td>Немезия</td>\n",
       "      <td>186.535207</td>\n",
       "    </tr>\n",
       "    <tr>\n",
       "      <th>26</th>\n",
       "      <td>Левкой</td>\n",
       "      <td>187.465606</td>\n",
       "    </tr>\n",
       "    <tr>\n",
       "      <th>41</th>\n",
       "      <td>Тюльпан</td>\n",
       "      <td>187.832210</td>\n",
       "    </tr>\n",
       "    <tr>\n",
       "      <th>10</th>\n",
       "      <td>Вербена</td>\n",
       "      <td>190.016594</td>\n",
       "    </tr>\n",
       "    <tr>\n",
       "      <th>44</th>\n",
       "      <td>Хризантема</td>\n",
       "      <td>195.738710</td>\n",
       "    </tr>\n",
       "    <tr>\n",
       "      <th>21</th>\n",
       "      <td>Календула</td>\n",
       "      <td>207.357323</td>\n",
       "    </tr>\n",
       "    <tr>\n",
       "      <th>11</th>\n",
       "      <td>Вероника</td>\n",
       "      <td>220.019402</td>\n",
       "    </tr>\n",
       "    <tr>\n",
       "      <th>37</th>\n",
       "      <td>Пион</td>\n",
       "      <td>222.565523</td>\n",
       "    </tr>\n",
       "    <tr>\n",
       "      <th>40</th>\n",
       "      <td>Ромашка</td>\n",
       "      <td>231.389365</td>\n",
       "    </tr>\n",
       "    <tr>\n",
       "      <th>28</th>\n",
       "      <td>Люпин</td>\n",
       "      <td>235.440937</td>\n",
       "    </tr>\n",
       "    <tr>\n",
       "      <th>25</th>\n",
       "      <td>Лаватера</td>\n",
       "      <td>249.992844</td>\n",
       "    </tr>\n",
       "    <tr>\n",
       "      <th>2</th>\n",
       "      <td>Аммобиум</td>\n",
       "      <td>256.708042</td>\n",
       "    </tr>\n",
       "    <tr>\n",
       "      <th>39</th>\n",
       "      <td>Роза</td>\n",
       "      <td>260.877217</td>\n",
       "    </tr>\n",
       "    <tr>\n",
       "      <th>19</th>\n",
       "      <td>Доротеантус</td>\n",
       "      <td>263.568916</td>\n",
       "    </tr>\n",
       "    <tr>\n",
       "      <th>36</th>\n",
       "      <td>Петуния</td>\n",
       "      <td>265.780822</td>\n",
       "    </tr>\n",
       "    <tr>\n",
       "      <th>9</th>\n",
       "      <td>Василёк</td>\n",
       "      <td>268.849897</td>\n",
       "    </tr>\n",
       "    <tr>\n",
       "      <th>15</th>\n",
       "      <td>Гелихризум</td>\n",
       "      <td>290.138643</td>\n",
       "    </tr>\n",
       "    <tr>\n",
       "      <th>13</th>\n",
       "      <td>Гвоздика</td>\n",
       "      <td>294.317308</td>\n",
       "    </tr>\n",
       "    <tr>\n",
       "      <th>43</th>\n",
       "      <td>Функия</td>\n",
       "      <td>302.494737</td>\n",
       "    </tr>\n",
       "    <tr>\n",
       "      <th>0</th>\n",
       "      <td>Агератум</td>\n",
       "      <td>337.802721</td>\n",
       "    </tr>\n",
       "    <tr>\n",
       "      <th>24</th>\n",
       "      <td>Крокус</td>\n",
       "      <td>349.031746</td>\n",
       "    </tr>\n",
       "    <tr>\n",
       "      <th>4</th>\n",
       "      <td>Астильба</td>\n",
       "      <td>376.143149</td>\n",
       "    </tr>\n",
       "    <tr>\n",
       "      <th>18</th>\n",
       "      <td>Диморфотека</td>\n",
       "      <td>406.161017</td>\n",
       "    </tr>\n",
       "  </tbody>\n",
       "</table>\n",
       "</div>"
      ],
      "text/plain": [
       "           name  time_spent\n",
       "31      Нарцисс   68.166758\n",
       "3      Арктотис   73.879984\n",
       "29       Малопа   76.070543\n",
       "27    Лобулярия   96.834350\n",
       "8   Белоцветник  100.818966\n",
       "17      Годеция  113.958333\n",
       "22  Колокольчик  119.131564\n",
       "33    Незабудка  120.362398\n",
       "1       Амарант  132.760012\n",
       "42       Фасоль  133.631957\n",
       "5     Бальзамин  134.508411\n",
       "30       Мальва  136.562234\n",
       "35      Обриета  141.777778\n",
       "6      Бархатцы  145.300328\n",
       "32    Настурция  154.859694\n",
       "12      Гацания  160.685185\n",
       "7       Бегония  163.200647\n",
       "23       Космос  164.867797\n",
       "16     Георгина  166.615555\n",
       "14      Гейхера  167.445947\n",
       "20         Ирис  179.931159\n",
       "38   Подснежник  180.286207\n",
       "34      Немезия  186.535207\n",
       "26       Левкой  187.465606\n",
       "41      Тюльпан  187.832210\n",
       "10      Вербена  190.016594\n",
       "44   Хризантема  195.738710\n",
       "21    Календула  207.357323\n",
       "11     Вероника  220.019402\n",
       "37         Пион  222.565523\n",
       "40      Ромашка  231.389365\n",
       "28        Люпин  235.440937\n",
       "25     Лаватера  249.992844\n",
       "2      Аммобиум  256.708042\n",
       "39         Роза  260.877217\n",
       "19  Доротеантус  263.568916\n",
       "36      Петуния  265.780822\n",
       "9       Василёк  268.849897\n",
       "15   Гелихризум  290.138643\n",
       "13     Гвоздика  294.317308\n",
       "43       Функия  302.494737\n",
       "0      Агератум  337.802721\n",
       "24       Крокус  349.031746\n",
       "4      Астильба  376.143149\n",
       "18  Диморфотека  406.161017"
      ]
     },
     "execution_count": 43,
     "metadata": {},
     "output_type": "execute_result"
    }
   ],
   "source": [
    "pivot = data.pivot_table(index='name', values='time_spent', aggfunc='mean').reset_index()\n",
    "pivot.sort_values(by='time_spent')"
   ]
  },
  {
   "cell_type": "markdown",
   "metadata": {},
   "source": [
    "Цікаво як на заправках Малопа, Арктотис і Нарцис заправляють машини за 1 хвилину? Треба перевірити дані на достовіність?"
   ]
  },
  {
   "cell_type": "code",
   "execution_count": 36,
   "metadata": {},
   "outputs": [
    {
     "data": {
      "text/plain": [
       "(317104, 4)"
      ]
     },
     "execution_count": 36,
     "metadata": {},
     "output_type": "execute_result"
    }
   ],
   "source": [
    "data.shape"
   ]
  },
  {
   "cell_type": "code",
   "execution_count": 35,
   "metadata": {},
   "outputs": [
    {
     "data": {
      "text/plain": [
       "np.int64(317104)"
      ]
     },
     "execution_count": 35,
     "metadata": {},
     "output_type": "execute_result"
    }
   ],
   "source": [
    "total_visits = data['id'].count()\n",
    "total_visits"
   ]
  },
  {
   "cell_type": "code",
   "execution_count": 37,
   "metadata": {},
   "outputs": [
    {
     "data": {
      "text/plain": [
       "471"
      ]
     },
     "execution_count": 37,
     "metadata": {},
     "output_type": "execute_result"
    }
   ],
   "source": [
    "total_station = len(data['id'].unique())\n",
    "total_station"
   ]
  },
  {
   "cell_type": "code",
   "execution_count": 38,
   "metadata": {},
   "outputs": [
    {
     "data": {
      "text/plain": [
       "(Timestamp('2018-04-02 00:00:08'), Timestamp('2018-04-08 23:59:57'))"
      ]
     },
     "execution_count": 38,
     "metadata": {},
     "output_type": "execute_result"
    }
   ],
   "source": [
    "data_min = data['date_time'].min()\n",
    "data_max = data['date_time'].max()\n",
    "data_min, data_max"
   ]
  },
  {
   "cell_type": "code",
   "execution_count": 39,
   "metadata": {},
   "outputs": [
    {
     "data": {
      "text/plain": [
       "Timedelta('6 days 23:59:49')"
      ]
     },
     "execution_count": 39,
     "metadata": {},
     "output_type": "execute_result"
    }
   ],
   "source": [
    "days = (data_max - data_min)\n",
    "days"
   ]
  },
  {
   "cell_type": "code",
   "execution_count": 40,
   "metadata": {},
   "outputs": [],
   "source": [
    "days = 7"
   ]
  },
  {
   "cell_type": "code",
   "execution_count": 41,
   "metadata": {},
   "outputs": [
    {
     "data": {
      "text/plain": [
       "np.float64(96.17955717318775)"
      ]
     },
     "execution_count": 41,
     "metadata": {},
     "output_type": "execute_result"
    }
   ],
   "source": [
    "station_visits_per_day = total_visits / days / total_station\n",
    "station_visits_per_day"
   ]
  },
  {
   "cell_type": "markdown",
   "metadata": {},
   "source": [
    " ^^^^ ^^^^ ^^^^ ^^^^ \\\n",
    " Маємо 96 заправок з ввімкненим навігатором в день на одну станцію. \n"
   ]
  },
  {
   "cell_type": "code",
   "execution_count": 42,
   "metadata": {},
   "outputs": [
    {
     "data": {
      "text/plain": [
       "name\n",
       "Календула      85648\n",
       "Василёк        79006\n",
       "Георгина       34356\n",
       "Немезия        20138\n",
       "Колокольчик    18835\n",
       "Мальва         17386\n",
       "Гейхера        14125\n",
       "Доротеантус     6312\n",
       "Нарцисс         3640\n",
       "Амарант         3221\n",
       "Name: count, dtype: int64"
      ]
     },
     "execution_count": 42,
     "metadata": {},
     "output_type": "execute_result"
    }
   ],
   "source": [
    "data_name = data['name'].value_counts().sort_values(ascending=False)\n",
    "data_name.head(10)"
   ]
  },
  {
   "cell_type": "markdown",
   "metadata": {},
   "source": [
    " ^^^^ ^^^^ ^^^^ ^^^^ \\\n",
    " Календула і Васільок є головними операторами ринку.\\\n",
    "\\\n",
    "Експерти підтвердили розподіл інших операторів як достовірний, тож вважаємо що з даними все добре. Але час заправки може бути порахований не вірно. "
   ]
  },
  {
   "cell_type": "code",
   "execution_count": 47,
   "metadata": {},
   "outputs": [
    {
     "data": {
      "text/plain": [
       "np.float64(28925.0)"
      ]
     },
     "execution_count": 47,
     "metadata": {},
     "output_type": "execute_result"
    }
   ],
   "source": [
    "data.time_spent.max()"
   ]
  },
  {
   "cell_type": "code",
   "execution_count": 54,
   "metadata": {},
   "outputs": [
    {
     "data": {
      "text/plain": [
       "array([[<Axes: title={'center': 'time_spent'}>]], dtype=object)"
      ]
     },
     "execution_count": 54,
     "metadata": {},
     "output_type": "execute_result"
    },
    {
     "data": {
      "image/png": "[encoded data removed]",
      "text/plain": [
       "<Figure size 640x480 with 1 Axes>"
      ]
     },
     "metadata": {},
     "output_type": "display_data"
    }
   ],
   "source": [
    "data.hist('time_spent')"
   ]
  },
  {
   "cell_type": "code",
   "execution_count": 53,
   "metadata": {},
   "outputs": [
    {
     "data": {
      "text/plain": [
       "array([[<Axes: title={'center': 'time_spent'}>]], dtype=object)"
      ]
     },
     "execution_count": 53,
     "metadata": {},
     "output_type": "execute_result"
    },
    {
     "data": {
      "image/png": "[encoded data removed]",
      "text/plain": [
       "<Figure size 640x480 with 1 Axes>"
      ]
     },
     "metadata": {},
     "output_type": "display_data"
    }
   ],
   "source": [
    "data.hist('time_spent', bins=100)"
   ]
  },
  {
   "cell_type": "code",
   "execution_count": 71,
   "metadata": {},
   "outputs": [
    {
     "data": {
      "text/plain": [
       "array([[<Axes: title={'center': 'time_spent'}>]], dtype=object)"
      ]
     },
     "execution_count": 71,
     "metadata": {},
     "output_type": "execute_result"
    },
    {
     "data": {
      "image/png": "[encoded data removed]",
      "text/plain": [
       "<Figure size 640x480 with 1 Axes>"
      ]
     },
     "metadata": {},
     "output_type": "display_data"
    }
   ],
   "source": [
    "\n",
    "data.hist('time_spent', bins=100, range=(0, 1500))"
   ]
  },
  {
   "cell_type": "markdown",
   "metadata": {},
   "source": [
    "Величезна кількість даних про час заправки, згрупована біля нуля. Такого бути не повинно. "
   ]
  },
  {
   "cell_type": "code",
   "execution_count": 80,
   "metadata": {},
   "outputs": [
    {
     "data": {
      "text/html": [
       "<div>\n",
       "<style scoped>\n",
       "    .dataframe tbody tr th:only-of-type {\n",
       "        vertical-align: middle;\n",
       "    }\n",
       "\n",
       "    .dataframe tbody tr th {\n",
       "        vertical-align: top;\n",
       "    }\n",
       "\n",
       "    .dataframe thead th {\n",
       "        text-align: right;\n",
       "    }\n",
       "</style>\n",
       "<table border=\"1\" class=\"dataframe\">\n",
       "  <thead>\n",
       "    <tr style=\"text-align: right;\">\n",
       "      <th></th>\n",
       "      <th>date_time</th>\n",
       "      <th>time_spent</th>\n",
       "    </tr>\n",
       "  </thead>\n",
       "  <tbody>\n",
       "    <tr>\n",
       "      <th>count</th>\n",
       "      <td>317104</td>\n",
       "      <td>317104.000000</td>\n",
       "    </tr>\n",
       "    <tr>\n",
       "      <th>mean</th>\n",
       "      <td>2018-04-05 13:35:49.178361088</td>\n",
       "      <td>203.382294</td>\n",
       "    </tr>\n",
       "    <tr>\n",
       "      <th>min</th>\n",
       "      <td>2018-04-02 00:00:08</td>\n",
       "      <td>0.000000</td>\n",
       "    </tr>\n",
       "    <tr>\n",
       "      <th>25%</th>\n",
       "      <td>2018-04-03 18:33:30.249999872</td>\n",
       "      <td>19.000000</td>\n",
       "    </tr>\n",
       "    <tr>\n",
       "      <th>50%</th>\n",
       "      <td>2018-04-05 14:38:10.500000</td>\n",
       "      <td>108.000000</td>\n",
       "    </tr>\n",
       "    <tr>\n",
       "      <th>75%</th>\n",
       "      <td>2018-04-07 07:56:25.750000128</td>\n",
       "      <td>274.000000</td>\n",
       "    </tr>\n",
       "    <tr>\n",
       "      <th>max</th>\n",
       "      <td>2018-04-08 23:59:57</td>\n",
       "      <td>28925.000000</td>\n",
       "    </tr>\n",
       "    <tr>\n",
       "      <th>std</th>\n",
       "      <td>NaN</td>\n",
       "      <td>395.754791</td>\n",
       "    </tr>\n",
       "  </tbody>\n",
       "</table>\n",
       "</div>"
      ],
      "text/plain": [
       "                           date_time     time_spent\n",
       "count                         317104  317104.000000\n",
       "mean   2018-04-05 13:35:49.178361088     203.382294\n",
       "min              2018-04-02 00:00:08       0.000000\n",
       "25%    2018-04-03 18:33:30.249999872      19.000000\n",
       "50%       2018-04-05 14:38:10.500000     108.000000\n",
       "75%    2018-04-07 07:56:25.750000128     274.000000\n",
       "max              2018-04-08 23:59:57   28925.000000\n",
       "std                              NaN     395.754791"
      ]
     },
     "execution_count": 80,
     "metadata": {},
     "output_type": "execute_result"
    }
   ],
   "source": [
    "data.describe()"
   ]
  },
  {
   "cell_type": "code",
   "execution_count": 79,
   "metadata": {},
   "outputs": [
    {
     "data": {
      "text/plain": [
       "(-1000.0, 1000.0)"
      ]
     },
     "execution_count": 79,
     "metadata": {},
     "output_type": "execute_result"
    },
    {
     "data": {
      "image/png": "[encoded data removed]",
      "text/plain": [
       "<Figure size 640x480 with 1 Axes>"
      ]
     },
     "metadata": {},
     "output_type": "display_data"
    }
   ],
   "source": [
    "data.boxplot()\n",
    "plt.ylim(-1000, 1000)"
   ]
  },
  {
   "cell_type": "code",
   "execution_count": null,
   "metadata": {},
   "outputs": [],
   "source": []
  }
 ],
 "metadata": {
  "kernelspec": {
   "display_name": "Python 3",
   "language": "python",
   "name": "python3"
  },
  "language_info": {
   "codemirror_mode": {
    "name": "ipython",
    "version": 3
   },
   "file_extension": ".py",
   "mimetype": "text/x-python",
   "name": "python",
   "nbconvert_exporter": "python",
   "pygments_lexer": "ipython3",
   "version": "3.12.3"
  }
 },
 "nbformat": 4,
 "nbformat_minor": 2
}
