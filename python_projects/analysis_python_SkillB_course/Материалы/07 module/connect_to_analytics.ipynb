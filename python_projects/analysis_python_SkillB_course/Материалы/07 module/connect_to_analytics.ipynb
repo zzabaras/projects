{
 "cells": [
  {
   "cell_type": "markdown",
   "metadata": {},
   "source": [
    "### миниспич зачем все это вообще нужно"
   ]
  },
  {
   "cell_type": "markdown",
   "metadata": {},
   "source": [
    "### Как это вообще обычно выглядит под капотом<br>\n",
    "\n",
    "<img src='../img/auth_flow.png' alt=\"loshara, net faila\" height=\"500\" width=\"500\">"
   ]
  },
  {
   "cell_type": "markdown",
   "metadata": {},
   "source": [
    "## Коннектимся к Reporting API v4"
   ]
  },
  {
   "cell_type": "markdown",
   "metadata": {},
   "source": [
    "### Устанавливаем пакеты"
   ]
  },
  {
   "cell_type": "code",
   "execution_count": 3,
   "metadata": {},
   "outputs": [
    {
     "name": "stdout",
     "output_type": "stream",
     "text": [
      "Requirement already up-to-date: google-api-python-client in /Users/bacchus/miniconda3/lib/python3.6/site-packages (1.7.7)\n",
      "Requirement already satisfied, skipping upgrade: httplib2<1dev,>=0.9.2 in /Users/bacchus/miniconda3/lib/python3.6/site-packages (from google-api-python-client) (0.11.3)\n",
      "Requirement already satisfied, skipping upgrade: google-auth-httplib2>=0.0.3 in /Users/bacchus/miniconda3/lib/python3.6/site-packages (from google-api-python-client) (0.0.3)\n",
      "Requirement already satisfied, skipping upgrade: uritemplate<4dev,>=3.0.0 in /Users/bacchus/miniconda3/lib/python3.6/site-packages (from google-api-python-client) (3.0.0)\n",
      "Requirement already satisfied, skipping upgrade: six<2dev,>=1.6.1 in /Users/bacchus/miniconda3/lib/python3.6/site-packages (from google-api-python-client) (1.10.0)\n",
      "Requirement already satisfied, skipping upgrade: google-auth>=1.4.1 in /Users/bacchus/miniconda3/lib/python3.6/site-packages (from google-api-python-client) (1.5.0)\n",
      "Requirement already satisfied, skipping upgrade: cachetools>=2.0.0 in /Users/bacchus/miniconda3/lib/python3.6/site-packages (from google-auth>=1.4.1->google-api-python-client) (2.1.0)\n",
      "Requirement already satisfied, skipping upgrade: rsa>=3.1.4 in /Users/bacchus/miniconda3/lib/python3.6/site-packages (from google-auth>=1.4.1->google-api-python-client) (3.4.2)\n",
      "Requirement already satisfied, skipping upgrade: pyasn1-modules>=0.2.1 in /Users/bacchus/miniconda3/lib/python3.6/site-packages (from google-auth>=1.4.1->google-api-python-client) (0.2.1)\n",
      "Requirement already satisfied, skipping upgrade: pyasn1>=0.1.3 in /Users/bacchus/miniconda3/lib/python3.6/site-packages (from rsa>=3.1.4->google-auth>=1.4.1->google-api-python-client) (0.4.3)\n",
      "Requirement already up-to-date: oauth2client in /Users/bacchus/miniconda3/lib/python3.6/site-packages (4.1.3)\n",
      "Requirement already satisfied, skipping upgrade: pyasn1-modules>=0.0.5 in /Users/bacchus/miniconda3/lib/python3.6/site-packages (from oauth2client) (0.2.1)\n",
      "Requirement already satisfied, skipping upgrade: rsa>=3.1.4 in /Users/bacchus/miniconda3/lib/python3.6/site-packages (from oauth2client) (3.4.2)\n",
      "Requirement already satisfied, skipping upgrade: pyasn1>=0.1.7 in /Users/bacchus/miniconda3/lib/python3.6/site-packages (from oauth2client) (0.4.3)\n",
      "Requirement already satisfied, skipping upgrade: httplib2>=0.9.1 in /Users/bacchus/miniconda3/lib/python3.6/site-packages (from oauth2client) (0.11.3)\n",
      "Requirement already satisfied, skipping upgrade: six>=1.6.1 in /Users/bacchus/miniconda3/lib/python3.6/site-packages (from oauth2client) (1.10.0)\n"
     ]
    }
   ],
   "source": [
    "!pip install --upgrade google-api-python-client\n",
    "!pip install --upgrade oauth2client"
   ]
  },
  {
   "cell_type": "markdown",
   "metadata": {},
   "source": [
    "### Создаем сервисный аккаунт\n",
    "\n",
    "<p>Для справки можно использовать вот эту ссылку https://developers.google.com/analytics/devguides/reporting/core/v4/authorization#service_accounts </p>\n",
    "\n",
    "Во всем нижеследующем тексте я предполагаю что вы уже создали себе аккаунт в google cloud, так как у нас уже был урок связанный с базами данных где мы это делали.\n",
    "\n",
    "<ul>\n",
    "    <li>Заходим на cloud.google.com</li>\n",
    "    <li>Далее в раздел IAM & Admin > Service accounts <img src=\"../img/serv_acc.png\" alt=\"loshara net faila\" height=\"350\" width=\"350\"></li>\n",
    "    <li>Создаем в нем сервисный аккаунт</li>\n",
    "    <li>Создаем json key</li>\n",
    "    <li>Делаем доступной нашему проекту Analytics API на вкладке APIs & Services</li>\n",
    "    <li>Даем разрешения на чтение имейлу сервисного аккаунта в ту view из которой хотим забирать данные</li>\n",
    "</ul>"
   ]
  },
  {
   "cell_type": "markdown",
   "metadata": {},
   "source": [
    "Чем отличается сервисный аккаунт? Он никак не привязан к персональным данным пользователей, поэтому взаимодействоавть через него с сервисами\n",
    "гугла гораздо проще, как пример можно посмотреть разные схемы авторизации: <br>\n",
    "https://developers.google.com/identity/protocols/OAuth2 <br>\n",
    "Он изначально принадлежит машине, и предназначен для взаимодействий по типу server-server. Нам именно это и нужно, ведь мы по итогу хотим нашими приложениями забрать много данных под разными срезами из гугл аналитикс или по расписанию обновлять данные за периоды. <br>\n",
    "В случаях авторизации НЕ через сервисный аккаунт требуется авторизация через пользователя.\n"
   ]
  },
  {
   "cell_type": "markdown",
   "metadata": {},
   "source": [
    "Упрощенно схема авторизации через сервисный аккаунт выглядит вот так: <img src='../img/auth_schema.png' alt=\"loshara net faila\" height=\"350\" width=\"350\">"
   ]
  },
  {
   "cell_type": "markdown",
   "metadata": {},
   "source": [
    "### Авторизовываемся"
   ]
  },
  {
   "cell_type": "code",
   "execution_count": 4,
   "metadata": {},
   "outputs": [],
   "source": [
    "from apiclient.discovery import build\n",
    "from oauth2client.service_account import ServiceAccountCredentials\n",
    "\n",
    "KEY_FILE_LOCATION = 'path'\n",
    "SCOPES = ['https://www.googleapis.com/auth/analytics.readonly']"
   ]
  },
  {
   "cell_type": "code",
   "execution_count": 5,
   "metadata": {},
   "outputs": [],
   "source": [
    "# получаем токен\n",
    "# справка по объекту https://oauth2client.readthedocs.io/en/latest/source/oauth2client.service_account.html\n",
    "credentials = ServiceAccountCredentials.from_json_keyfile_name(KEY_FILE_LOCATION, SCOPES)"
   ]
  },
  {
   "cell_type": "code",
   "execution_count": 6,
   "metadata": {},
   "outputs": [
    {
     "data": {
      "text/plain": [
       "oauth2client.service_account.ServiceAccountCredentials"
      ]
     },
     "execution_count": 6,
     "metadata": {},
     "output_type": "execute_result"
    }
   ],
   "source": [
    "type(credentials)"
   ]
  },
  {
   "cell_type": "code",
   "execution_count": null,
   "metadata": {},
   "outputs": [],
   "source": [
    "# credentials.__dict__"
   ]
  },
  {
   "cell_type": "code",
   "execution_count": 7,
   "metadata": {},
   "outputs": [],
   "source": [
    "# создаем объект для взаимодействия с апишкой\n",
    "# https://googleapis.github.io/google-api-python-client/docs/epy/googleapiclient.discovery-module.html#build\n",
    "analytics = build('analyticsreporting', 'v4', credentials=credentials)"
   ]
  },
  {
   "cell_type": "code",
   "execution_count": 8,
   "metadata": {},
   "outputs": [
    {
     "data": {
      "text/plain": [
       "googleapiclient.discovery.Resource"
      ]
     },
     "execution_count": 8,
     "metadata": {},
     "output_type": "execute_result"
    }
   ],
   "source": [
    "type(analytics)"
   ]
  },
  {
   "cell_type": "code",
   "execution_count": null,
   "metadata": {},
   "outputs": [],
   "source": [
    "# analytics.__dict__"
   ]
  },
  {
   "cell_type": "markdown",
   "metadata": {},
   "source": [
    "####  Оформим все эти пироги в одну функцию чтобы она возвращала уже готовый объект"
   ]
  },
  {
   "cell_type": "code",
   "execution_count": 9,
   "metadata": {},
   "outputs": [],
   "source": [
    "def get_credentials(KEY_FILE_LOCATION):\n",
    "    \"\"\"Initializes an Analytics Reporting API V4 service object.\n",
    "    Returns:\n",
    "      An authorized Analytics Reporting API V4 service object.\n",
    "    \"\"\"\n",
    "    # get token\n",
    "    credentials = ServiceAccountCredentials.from_json_keyfile_name(KEY_FILE_LOCATION, SCOPES)\n",
    "\n",
    "    # build the service object.\n",
    "    analytics = build('analyticsreporting', 'v4', credentials=credentials)\n",
    "    return analytics"
   ]
  },
  {
   "cell_type": "code",
   "execution_count": 11,
   "metadata": {},
   "outputs": [],
   "source": [
    "test = get_credentials(KEY_FILE_LOCATION)"
   ]
  },
  {
   "cell_type": "code",
   "execution_count": 12,
   "metadata": {},
   "outputs": [
    {
     "data": {
      "text/plain": [
       "googleapiclient.discovery.Resource"
      ]
     },
     "execution_count": 12,
     "metadata": {},
     "output_type": "execute_result"
    }
   ],
   "source": [
    "type(test)"
   ]
  },
  {
   "cell_type": "markdown",
   "metadata": {},
   "source": [
    "## Ну и естественно теперь все это перенесем в отдельнуый модуль чтобы не таскать каждый раз эти громоздкие конструкции\n",
    "\n",
    "Переносим все что носит константный характер, расположение ключа к ним не относится, поэтому его не переносим."
   ]
  }
 ],
 "metadata": {
  "kernelspec": {
   "display_name": "Python 3",
   "language": "python",
   "name": "python3"
  },
  "language_info": {
   "codemirror_mode": {
    "name": "ipython",
    "version": 3
   },
   "file_extension": ".py",
   "mimetype": "text/x-python",
   "name": "python",
   "nbconvert_exporter": "python",
   "pygments_lexer": "ipython3",
   "version": "3.6.5"
  }
 },
 "nbformat": 4,
 "nbformat_minor": 2
}
