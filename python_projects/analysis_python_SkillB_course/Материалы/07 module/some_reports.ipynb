{
 "cells": [
  {
   "cell_type": "code",
   "execution_count": null,
   "metadata": {},
   "outputs": [],
   "source": [
    "import test"
   ]
  },
  {
   "cell_type": "markdown",
   "metadata": {},
   "source": [
    "### Заберем пару репортов из GA\n",
    "\n",
    "\n",
    "Пригодится:<br>\n",
    "https://developers.google.com/analytics/devguides/reporting/core/v4/rest/v4/reports/batchGet#reportrequest<br>"
   ]
  },
  {
   "cell_type": "code",
   "execution_count": null,
   "metadata": {},
   "outputs": [],
   "source": [
    "KEY_FILE_LOCATION = 'path'\n",
    "VIEW_ID = 'id'\n",
    "body={\n",
    "    'reportRequests': [\n",
    "        {\n",
    "          'viewId': VIEW_ID,\n",
    "          'dateRanges': [{'startDate': '2018-10-01', 'endDate': '2019-01-11'}],\n",
    "          'metrics': [{'expression': 'ga:sessions'},{'expression': 'ga:users'}],\n",
    "          'dimensions': [{'name': 'ga:date'},{'name': 'ga:dayOfWeek'},{'name': 'ga:hour'},{'name': 'ga:sourceMedium'}],\n",
    "}]}"
   ]
  },
  {
   "cell_type": "code",
   "execution_count": null,
   "metadata": {},
   "outputs": [],
   "source": [
    "anal_cred = test.get_credentials(KEY_FILE_LOCATION)\n",
    "responce = anal_cred.reports().batchGet(body=body).execute()\n",
    "report = responce['reports'][0]"
   ]
  },
  {
   "cell_type": "code",
   "execution_count": null,
   "metadata": {},
   "outputs": [],
   "source": [
    "df = test.report_prettifier(report)"
   ]
  },
  {
   "cell_type": "code",
   "execution_count": null,
   "metadata": {},
   "outputs": [],
   "source": [
    "df.head()"
   ]
  },
  {
   "cell_type": "code",
   "execution_count": null,
   "metadata": {},
   "outputs": [],
   "source": [
    "df.shape"
   ]
  }
 ],
 "metadata": {
  "kernelspec": {
   "display_name": "Python 3",
   "language": "python",
   "name": "python3"
  },
  "language_info": {
   "codemirror_mode": {
    "name": "ipython",
    "version": 3
   },
   "file_extension": ".py",
   "mimetype": "text/x-python",
   "name": "python",
   "nbconvert_exporter": "python",
   "pygments_lexer": "ipython3",
   "version": "3.6.5"
  }
 },
 "nbformat": 4,
 "nbformat_minor": 2
}
