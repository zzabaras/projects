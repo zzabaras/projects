{
 "cells": [
  {
   "cell_type": "markdown",
   "metadata": {},
   "source": [
    "# Авторизуемся"
   ]
  },
  {
   "cell_type": "code",
   "execution_count": 1,
   "metadata": {},
   "outputs": [],
   "source": [
    "import test"
   ]
  },
  {
   "cell_type": "code",
   "execution_count": 2,
   "metadata": {},
   "outputs": [],
   "source": [
    "KEY_FILE_LOCATION = 'path'\n",
    "anal_cred = test.get_credentials(KEY_FILE_LOCATION)"
   ]
  },
  {
   "cell_type": "markdown",
   "metadata": {},
   "source": [
    "# А теперь построим наш первый репорт"
   ]
  },
  {
   "cell_type": "code",
   "execution_count": null,
   "metadata": {},
   "outputs": [],
   "source": [
    "# anal_cred - это инстанс класса Resource"
   ]
  },
  {
   "cell_type": "code",
   "execution_count": 3,
   "metadata": {},
   "outputs": [
    {
     "data": {
      "text/plain": [
       "googleapiclient.discovery.Resource"
      ]
     },
     "execution_count": 3,
     "metadata": {},
     "output_type": "execute_result"
    }
   ],
   "source": [
    "type(anal_cred)"
   ]
  },
  {
   "cell_type": "markdown",
   "metadata": {},
   "source": [
    "Будем пользоваться методом reports.batchGet объекта Resource<br>\n",
    "Ссылка на документацию: https://developers.google.com/analytics/devguides/reporting/core/v4/rest/v4/reports/batchGet#top_of_page <br><br>\n",
    "\n",
    "Для начала создадим дефолтное тело запроса <br>\n",
    "Ссылки на документацию того как это делать:<br>\n",
    "https://developers.google.com/analytics/devguides/reporting/core/v4/rest/v4/reports/batchGet#request-body <br>\n",
    "https://developers.google.com/analytics/devguides/reporting/core/v4/rest/v4/reports/batchGet#ReportRequest <br>\n",
    "сами поля:<br>\n",
    "https://developers.google.com/analytics/devguides/reporting/core/dimsmets <br><br>\n",
    "\n",
    "По сути в объекте Request Body внутри должен содержаться как минимум один ReportRequest object. Более подробно можно почитать в документации. <br>\n",
    "\n",
    "И да, самое время записать в константу наш VIEW ID"
   ]
  },
  {
   "cell_type": "code",
   "execution_count": 1,
   "metadata": {},
   "outputs": [],
   "source": [
    "VIEW_ID = 'id'\n",
    "body={\n",
    "    'reportRequests': [\n",
    "        {\n",
    "          'viewId': VIEW_ID,\n",
    "          'dateRanges': [{'startDate': '7daysAgo', 'endDate': 'today'}],\n",
    "          'metrics': [{'expression': 'ga:sessions'},{'expression': 'ga:users'}],\n",
    "          'dimensions': [{'name': 'ga:country'},{'name': 'ga:sourceMedium'}]\n",
    "}]}"
   ]
  },
  {
   "cell_type": "markdown",
   "metadata": {},
   "source": [
    "## А теперь запрашиваем данные\n",
    "И получаем в ответ Responce body <br>\n",
    "https://developers.google.com/analytics/devguides/reporting/core/v4/rest/v4/reports/batchGet#response-body <br>\n",
    "Внутри которого Report's <br>\n",
    "https://developers.google.com/analytics/devguides/reporting/core/v4/rest/v4/reports/batchGet#Report <br>"
   ]
  },
  {
   "cell_type": "code",
   "execution_count": 4,
   "metadata": {},
   "outputs": [],
   "source": [
    "responce = anal_cred.reports().batchGet(body=body).execute()"
   ]
  },
  {
   "cell_type": "code",
   "execution_count": 26,
   "metadata": {},
   "outputs": [
    {
     "data": {
      "text/plain": [
       "dict_keys(['columnHeader', 'data'])"
      ]
     },
     "execution_count": 26,
     "metadata": {},
     "output_type": "execute_result"
    }
   ],
   "source": [
    "responce['reports'][0].keys()"
   ]
  },
  {
   "cell_type": "code",
   "execution_count": 5,
   "metadata": {},
   "outputs": [],
   "source": [
    "report = responce['reports'][0]"
   ]
  },
  {
   "cell_type": "code",
   "execution_count": 39,
   "metadata": {},
   "outputs": [
    {
     "data": {
      "text/plain": [
       "{'columnHeader': {'dimensions': ['ga:country', 'ga:sourceMedium'],\n",
       "  'metricHeader': {'metricHeaderEntries': [{'name': 'ga:sessions',\n",
       "     'type': 'INTEGER'},\n",
       "    {'name': 'ga:users', 'type': 'INTEGER'}]}},\n",
       " 'data': {'rows': [{'dimensions': ['Belarus', '(direct) / (none)'],\n",
       "    'metrics': [{'values': ['1', '1']}]},\n",
       "   {'dimensions': ['Belarus', 'google / organic'],\n",
       "    'metrics': [{'values': ['5', '5']}]},\n",
       "   {'dimensions': ['China', '(direct) / (none)'],\n",
       "    'metrics': [{'values': ['1', '1']}]},\n",
       "   {'dimensions': ['Cyprus', 'google / organic'],\n",
       "    'metrics': [{'values': ['1', '1']}]},\n",
       "   {'dimensions': ['France', '(direct) / (none)'],\n",
       "    'metrics': [{'values': ['14', '14']}]},\n",
       "   {'dimensions': ['Kazakhstan', '(direct) / (none)'],\n",
       "    'metrics': [{'values': ['1', '1']}]},\n",
       "   {'dimensions': ['Netherlands', 'google / organic'],\n",
       "    'metrics': [{'values': ['2', '2']}]},\n",
       "   {'dimensions': ['New Zealand', 'away.vk.com / referral'],\n",
       "    'metrics': [{'values': ['1', '1']}]},\n",
       "   {'dimensions': ['Poland', '(direct) / (none)'],\n",
       "    'metrics': [{'values': ['1', '1']}]},\n",
       "   {'dimensions': ['Russia', '(direct) / (none)'],\n",
       "    'metrics': [{'values': ['51', '43']}]},\n",
       "   {'dimensions': ['Russia', 'adindex.ru / referral'],\n",
       "    'metrics': [{'values': ['1', '1']}]},\n",
       "   {'dimensions': ['Russia', 'away.vk.com / referral'],\n",
       "    'metrics': [{'values': ['6', '5']}]},\n",
       "   {'dimensions': ['Russia', 'facebook.com / referral'],\n",
       "    'metrics': [{'values': ['3', '3']}]},\n",
       "   {'dimensions': ['Russia', 'google / organic'],\n",
       "    'metrics': [{'values': ['29', '25']}]},\n",
       "   {'dimensions': ['Russia', 'jira.hh.ru / referral'],\n",
       "    'metrics': [{'values': ['2', '2']}]},\n",
       "   {'dimensions': ['Russia', 'l.facebook.com / referral'],\n",
       "    'metrics': [{'values': ['3', '3']}]},\n",
       "   {'dimensions': ['Russia', 'm.facebook.com / referral'],\n",
       "    'metrics': [{'values': ['3', '3']}]},\n",
       "   {'dimensions': ['Russia', 'nosikadelo.ru / referral'],\n",
       "    'metrics': [{'values': ['1', '1']}]},\n",
       "   {'dimensions': ['Russia', 'sys.mail.ru / referral'],\n",
       "    'metrics': [{'values': ['1', '1']}]},\n",
       "   {'dimensions': ['Russia', 'web.telegram.org / referral'],\n",
       "    'metrics': [{'values': ['2', '1']}]},\n",
       "   {'dimensions': ['Russia', 'yandex / organic'],\n",
       "    'metrics': [{'values': ['8', '7']}]},\n",
       "   {'dimensions': ['Russia', 'yandex.ru / referral'],\n",
       "    'metrics': [{'values': ['17', '15']}]},\n",
       "   {'dimensions': ['Russia', 'youtube.com / referral'],\n",
       "    'metrics': [{'values': ['2', '2']}]},\n",
       "   {'dimensions': ['Russia', 'Вся база MAED (Новое) / (not set)'],\n",
       "    'metrics': [{'values': ['3', '1']}]},\n",
       "   {'dimensions': ['Switzerland', 'google / organic'],\n",
       "    'metrics': [{'values': ['1', '1']}]},\n",
       "   {'dimensions': ['Thailand', '(direct) / (none)'],\n",
       "    'metrics': [{'values': ['1', '1']}]},\n",
       "   {'dimensions': ['Ukraine', '(direct) / (none)'],\n",
       "    'metrics': [{'values': ['3', '3']}]},\n",
       "   {'dimensions': ['Ukraine', 'google / organic'],\n",
       "    'metrics': [{'values': ['12', '7']}]},\n",
       "   {'dimensions': ['Ukraine', 'gstatic.com / referral'],\n",
       "    'metrics': [{'values': ['3', '2']}]},\n",
       "   {'dimensions': ['Ukraine', 'newsletter / refferal'],\n",
       "    'metrics': [{'values': ['4', '1']}]},\n",
       "   {'dimensions': ['United States', '(direct) / (none)'],\n",
       "    'metrics': [{'values': ['1', '1']}]},\n",
       "   {'dimensions': ['United States', 'facebook.com / referral'],\n",
       "    'metrics': [{'values': ['1', '1']}]},\n",
       "   {'dimensions': ['United States', 'google / organic'],\n",
       "    'metrics': [{'values': ['2', '2']}]}],\n",
       "  'totals': [{'values': ['187', '159']}],\n",
       "  'rowCount': 33,\n",
       "  'minimums': [{'values': ['1', '1']}],\n",
       "  'maximums': [{'values': ['51', '43']}]}}"
      ]
     },
     "execution_count": 39,
     "metadata": {},
     "output_type": "execute_result"
    }
   ],
   "source": [
    "report"
   ]
  },
  {
   "cell_type": "markdown",
   "metadata": {},
   "source": [
    "### В целом чуть больше чем полностью неудобная форма представления, попробуем это изменить\n",
    "\n",
    "По сути предсталвение данных имеет на самом деле табличную форму, но можно с этим всем поиграться и попоробуем имитировать колоночную базу данных, только без сортировки, а то слишком заморочено получится<br>\n",
    "\n",
    "В чем прикол колоночных баз данных можно почитать вот тут:<br>\n",
    "https://ruhighload.com/Колоночные+базы+данных"
   ]
  },
  {
   "cell_type": "code",
   "execution_count": 34,
   "metadata": {},
   "outputs": [],
   "source": [
    "columnHeader = report.get('columnHeader', {})\n",
    "data = {}\n",
    "dimensions = []\n",
    "metrics = []\n",
    "\n",
    "for dimension in columnHeader.get('dimensions',[]):\n",
    "    name = dimension.split(':')[1]\n",
    "    dimensions.append(name)\n",
    "    data[name] = []\n",
    "for metric in columnHeader['metricHeader']['metricHeaderEntries']:\n",
    "    name = metric['name'].split(':')[1]\n",
    "    metrics.append(name)\n",
    "    data[name] = []\n",
    "\n",
    "# dimensions may not be, they are not required in request\n",
    "if dimensions:\n",
    "    for row in report['data']['rows']:\n",
    "        for i,value in enumerate(row['dimensions']):\n",
    "            data[dimensions[i]].append(value)\n",
    "        for i,value in enumerate(row['metrics'][0]['values']):\n",
    "            data[metrics[i]].append(value)\n",
    "else:\n",
    "    for row in report['data']['rows']:\n",
    "        for i,value in enumerate(row['metrics'][0]['values']):\n",
    "            data[metrics[i]].append(value)"
   ]
  },
  {
   "cell_type": "markdown",
   "metadata": {},
   "source": [
    "### Проверим, все ли норм"
   ]
  },
  {
   "cell_type": "code",
   "execution_count": 37,
   "metadata": {},
   "outputs": [],
   "source": [
    "sum1,sum2 = 0, 0 \n",
    "cnt_rows = 0\n",
    "for sess,us in zip(data['sessions'],data['users']):\n",
    "    sum1, sum2 = sum1 + int(sess), sum2 + int(us)\n",
    "    cnt_rows += 1"
   ]
  },
  {
   "cell_type": "code",
   "execution_count": 38,
   "metadata": {},
   "outputs": [
    {
     "data": {
      "text/plain": [
       "(187, 159, 33)"
      ]
     },
     "execution_count": 38,
     "metadata": {},
     "output_type": "execute_result"
    }
   ],
   "source": [
    "sum1, sum2, cnt_rows"
   ]
  },
  {
   "cell_type": "markdown",
   "metadata": {},
   "source": [
    "### Но все равно не очень удобно, хотя если нужна скорость этот вариант близок к оптимальному\n",
    "### Преобразуем в DataFrame"
   ]
  },
  {
   "cell_type": "code",
   "execution_count": 42,
   "metadata": {},
   "outputs": [],
   "source": [
    "import pandas as pd"
   ]
  },
  {
   "cell_type": "code",
   "execution_count": 43,
   "metadata": {},
   "outputs": [],
   "source": [
    "df = pd.DataFrame().from_dict(data)"
   ]
  },
  {
   "cell_type": "code",
   "execution_count": 45,
   "metadata": {},
   "outputs": [],
   "source": [
    "df['sessions'] = pd.to_numeric(df['sessions'])\n",
    "df['users'] = pd.to_numeric(df['users'])"
   ]
  },
  {
   "cell_type": "code",
   "execution_count": 47,
   "metadata": {},
   "outputs": [
    {
     "data": {
      "text/plain": [
       "(187, 159, 33)"
      ]
     },
     "execution_count": 47,
     "metadata": {},
     "output_type": "execute_result"
    }
   ],
   "source": [
    "# все норм\n",
    "df['sessions'].sum() , df['users'].sum(), df.shape[0]"
   ]
  },
  {
   "cell_type": "markdown",
   "metadata": {},
   "source": [
    "### И все это тоже закинем в модуль"
   ]
  }
 ],
 "metadata": {
  "kernelspec": {
   "display_name": "Python 3",
   "language": "python",
   "name": "python3"
  },
  "language_info": {
   "codemirror_mode": {
    "name": "ipython",
    "version": 3
   },
   "file_extension": ".py",
   "mimetype": "text/x-python",
   "name": "python",
   "nbconvert_exporter": "python",
   "pygments_lexer": "ipython3",
   "version": "3.6.5"
  }
 },
 "nbformat": 4,
 "nbformat_minor": 2
}
