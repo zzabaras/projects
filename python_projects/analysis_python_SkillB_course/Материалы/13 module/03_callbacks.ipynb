{
 "cells": [
  {
   "cell_type": "markdown",
   "metadata": {},
   "source": [
    "## Callbacks\n",
    "Коллбеки делают dash app по настоящему интерактивным <br>\n",
    "Они под капотом реализованы на react\n"
   ]
  },
  {
   "cell_type": "code",
   "execution_count": null,
   "metadata": {},
   "outputs": [],
   "source": [
    "import dash\n",
    "import dash_core_components as dcc\n",
    "import dash_html_components as html\n",
    "from dash.dependencies import Input, Output\n",
    "\n",
    "external_stylesheets = ['https://codepen.io/chriddyp/pen/bWLwgP.css']\n",
    "\n",
    "app = dash.Dash(__name__, external_stylesheets=external_stylesheets)\n",
    "\n",
    "app.layout = html.Div([\n",
    "    dcc.Input(id='my-id', value='initial value', type='text'),\n",
    "    html.Div(id='my-div')\n",
    "])\n",
    "\n",
    "\n",
    "@app.callback(\n",
    "    Output(component_id='my-div', component_property='children'),\n",
    "    [Input(component_id='my-id', component_property='value')]\n",
    ")\n",
    "def update_output_div(input_value):\n",
    "    return 'You\\'ve entered \"{}\"'.format(input_value)\n",
    "\n",
    "\n",
    "if __name__ == '__main__':\n",
    "    app.run_server(debug=True)"
   ]
  },
  {
   "cell_type": "markdown",
   "metadata": {},
   "source": [
    "@app.callback - ни что иное как обычный питоновский декоратор, что такое декоратор пример ниже"
   ]
  },
  {
   "cell_type": "code",
   "execution_count": 1,
   "metadata": {},
   "outputs": [],
   "source": [
    "def my_decorator(func):\n",
    "    def wrapper():\n",
    "        print(\"Something is happening before the function is called.\")\n",
    "        func()\n",
    "        print(\"Something is happening after the function is called.\")\n",
    "    return wrapper\n",
    "\n",
    "@my_decorator\n",
    "def say_whee():\n",
    "    print(\"Whee!\")"
   ]
  },
  {
   "cell_type": "code",
   "execution_count": 5,
   "metadata": {},
   "outputs": [
    {
     "data": {
      "text/plain": [
       "'wrapper'"
      ]
     },
     "execution_count": 5,
     "metadata": {},
     "output_type": "execute_result"
    }
   ],
   "source": [
    "say_whee.__name__"
   ]
  },
  {
   "cell_type": "code",
   "execution_count": 3,
   "metadata": {},
   "outputs": [],
   "source": [
    "def my_decorator(func):\n",
    "    def wrapper():\n",
    "        print(\"Something is happening before the function is called.\")\n",
    "        func()\n",
    "        print(\"Something is happening after the function is called.\")\n",
    "    return wrapper\n",
    "\n",
    "def say_whee():\n",
    "    print(\"Whee!\")\n",
    "    \n",
    "say_whee = my_decorator(say_whee)"
   ]
  },
  {
   "cell_type": "code",
   "execution_count": 6,
   "metadata": {},
   "outputs": [
    {
     "data": {
      "text/plain": [
       "'wrapper'"
      ]
     },
     "execution_count": 6,
     "metadata": {},
     "output_type": "execute_result"
    }
   ],
   "source": [
    "say_whee.__name__"
   ]
  },
  {
   "cell_type": "code",
   "execution_count": 7,
   "metadata": {},
   "outputs": [],
   "source": [
    "from dash.dependencies import Input, Output"
   ]
  },
  {
   "cell_type": "code",
   "execution_count": 16,
   "metadata": {},
   "outputs": [
    {
     "ename": "TypeError",
     "evalue": "__init__() missing 2 required positional arguments: 'component_id' and 'component_property'",
     "output_type": "error",
     "traceback": [
      "\u001b[0;31m---------------------------------------------------------------------------\u001b[0m",
      "\u001b[0;31mTypeError\u001b[0m                                 Traceback (most recent call last)",
      "\u001b[0;32m<ipython-input-16-23ca14aa073f>\u001b[0m in \u001b[0;36m<module>\u001b[0;34m()\u001b[0m\n\u001b[1;32m      1\u001b[0m \u001b[0;31m#что есть в этих объектах, да собсна ничего, только явное указание откуда и куда\u001b[0m\u001b[0;34m\u001b[0m\u001b[0;34m\u001b[0m\u001b[0m\n\u001b[0;32m----> 2\u001b[0;31m \u001b[0mInput\u001b[0m\u001b[0;34m(\u001b[0m\u001b[0;34m)\u001b[0m\u001b[0;34m\u001b[0m\u001b[0m\n\u001b[0m",
      "\u001b[0;31mTypeError\u001b[0m: __init__() missing 2 required positional arguments: 'component_id' and 'component_property'"
     ]
    }
   ],
   "source": [
    "#что есть в этих объектах, да собсна ничего, только явное указание откуда и куда\n",
    "Input()"
   ]
  },
  {
   "cell_type": "markdown",
   "metadata": {},
   "source": [
    "# замутим пример поинтересней"
   ]
  },
  {
   "cell_type": "code",
   "execution_count": 9,
   "metadata": {},
   "outputs": [],
   "source": [
    "import pandas as pd"
   ]
  },
  {
   "cell_type": "code",
   "execution_count": 17,
   "metadata": {},
   "outputs": [],
   "source": [
    "df = pd.read_csv('https://raw.githubusercontent.com/plotly/datasets/master/gapminder2007.csv')"
   ]
  },
  {
   "cell_type": "code",
   "execution_count": 18,
   "metadata": {},
   "outputs": [
    {
     "data": {
      "text/html": [
       "<div>\n",
       "<style scoped>\n",
       "    .dataframe tbody tr th:only-of-type {\n",
       "        vertical-align: middle;\n",
       "    }\n",
       "\n",
       "    .dataframe tbody tr th {\n",
       "        vertical-align: top;\n",
       "    }\n",
       "\n",
       "    .dataframe thead th {\n",
       "        text-align: right;\n",
       "    }\n",
       "</style>\n",
       "<table border=\"1\" class=\"dataframe\">\n",
       "  <thead>\n",
       "    <tr style=\"text-align: right;\">\n",
       "      <th></th>\n",
       "      <th>country</th>\n",
       "      <th>pop</th>\n",
       "      <th>continent</th>\n",
       "      <th>lifeExp</th>\n",
       "      <th>gdpPercap</th>\n",
       "    </tr>\n",
       "  </thead>\n",
       "  <tbody>\n",
       "    <tr>\n",
       "      <th>0</th>\n",
       "      <td>Afghanistan</td>\n",
       "      <td>31889923.0</td>\n",
       "      <td>Asia</td>\n",
       "      <td>43.828</td>\n",
       "      <td>974.580338</td>\n",
       "    </tr>\n",
       "    <tr>\n",
       "      <th>1</th>\n",
       "      <td>Albania</td>\n",
       "      <td>3600523.0</td>\n",
       "      <td>Europe</td>\n",
       "      <td>76.423</td>\n",
       "      <td>5937.029526</td>\n",
       "    </tr>\n",
       "    <tr>\n",
       "      <th>2</th>\n",
       "      <td>Algeria</td>\n",
       "      <td>33333216.0</td>\n",
       "      <td>Africa</td>\n",
       "      <td>72.301</td>\n",
       "      <td>6223.367465</td>\n",
       "    </tr>\n",
       "    <tr>\n",
       "      <th>3</th>\n",
       "      <td>Angola</td>\n",
       "      <td>12420476.0</td>\n",
       "      <td>Africa</td>\n",
       "      <td>42.731</td>\n",
       "      <td>4797.231267</td>\n",
       "    </tr>\n",
       "    <tr>\n",
       "      <th>4</th>\n",
       "      <td>Argentina</td>\n",
       "      <td>40301927.0</td>\n",
       "      <td>Americas</td>\n",
       "      <td>75.320</td>\n",
       "      <td>12779.379640</td>\n",
       "    </tr>\n",
       "  </tbody>\n",
       "</table>\n",
       "</div>"
      ],
      "text/plain": [
       "       country         pop continent  lifeExp     gdpPercap\n",
       "0  Afghanistan  31889923.0      Asia   43.828    974.580338\n",
       "1      Albania   3600523.0    Europe   76.423   5937.029526\n",
       "2      Algeria  33333216.0    Africa   72.301   6223.367465\n",
       "3       Angola  12420476.0    Africa   42.731   4797.231267\n",
       "4    Argentina  40301927.0  Americas   75.320  12779.379640"
      ]
     },
     "execution_count": 18,
     "metadata": {},
     "output_type": "execute_result"
    }
   ],
   "source": [
    "df.head()"
   ]
  },
  {
   "cell_type": "code",
   "execution_count": 12,
   "metadata": {},
   "outputs": [
    {
     "data": {
      "text/plain": [
       "array(['Asia', 'Europe', 'Africa', 'Americas', 'Oceania'], dtype=object)"
      ]
     },
     "execution_count": 12,
     "metadata": {},
     "output_type": "execute_result"
    }
   ],
   "source": [
    "df['continent'].unique()"
   ]
  },
  {
   "cell_type": "code",
   "execution_count": null,
   "metadata": {},
   "outputs": [],
   "source": [
    "import dash\n",
    "from dash.dependencies import Input, Output\n",
    "import dash_table\n",
    "import dash_core_components as dcc\n",
    "import dash_html_components as html\n",
    "import pandas as pd\n",
    "\n",
    "df = pd.read_csv('https://raw.githubusercontent.com/plotly/datasets/master/gapminder2007.csv')\n",
    "\n",
    "app = dash.Dash(__name__)\n",
    "\n",
    "app.layout = html.Div([\n",
    "    dcc.Dropdown(\n",
    "        id='field-dropdown',\n",
    "        options=[{'label': continent, 'value': continent} for continent in df['continent'].unique()],\n",
    "        multi=True,\n",
    "        value='Asia',\n",
    "        clearable=False\n",
    "    ),\n",
    "    dash_table.DataTable(\n",
    "        id='datatable-interactivity',\n",
    "        columns=[\n",
    "            {\"name\": i, \"id\": i, \"deletable\": True} for i in df.columns\n",
    "        ],\n",
    "        data=df.to_dict('records'),\n",
    "        editable=True,\n",
    "        filter_action=\"native\",\n",
    "        sort_action=\"native\",\n",
    "        sort_mode=\"multi\",\n",
    "        row_selectable=\"multi\",\n",
    "        row_deletable=True,\n",
    "        selected_rows=[],\n",
    "        page_action=\"native\",\n",
    "        page_current= 0,\n",
    "        page_size= 10,\n",
    "    ),\n",
    "    html.Div(id='datatable-interactivity-container')\n",
    "])\n",
    "\n",
    "@app.callback(Output('datatable-interactivity', 'data'), [Input('field-dropdown', 'value')])\n",
    "def update_table(user_selection):\n",
    "    \"\"\"\n",
    "    For user selections, return the relevant table\n",
    "    \"\"\"\n",
    "    if isinstance(user_selection,str):\n",
    "        df_to_ret = df[df['continent'] == user_selection]\n",
    "    else:\n",
    "        df_to_ret = df[df['continent'].isin(user_selection)]\n",
    "    return df_to_ret.to_dict('records')\n",
    "\n",
    "@app.callback(\n",
    "    Output('datatable-interactivity-container', \"children\"),\n",
    "    [Input('datatable-interactivity', \"derived_virtual_data\"),\n",
    "     Input('datatable-interactivity', \"derived_virtual_selected_rows\")])\n",
    "def update_graphs(rows, derived_virtual_selected_rows):\n",
    "    # When the table is first rendered, `derived_virtual_data` and\n",
    "    # `derived_virtual_selected_rows` will be `None`. This is due to an\n",
    "    # idiosyncracy in Dash (unsupplied properties are always None and Dash\n",
    "    # calls the dependent callbacks when the component is first rendered).\n",
    "    # So, if `rows` is `None`, then the component was just rendered\n",
    "    # and its value will be the same as the component's dataframe.\n",
    "    # Instead of setting `None` in here, you could also set\n",
    "    # `derived_virtual_data=df.to_rows('dict')` when you initialize\n",
    "    # the component.\n",
    "    if derived_virtual_selected_rows is None:\n",
    "        derived_virtual_selected_rows = []\n",
    "\n",
    "    dff = df if rows is None else pd.DataFrame(rows)\n",
    "\n",
    "    colors = ['#7FDBFF' if i in derived_virtual_selected_rows else '#0074D9'\n",
    "              for i in range(len(dff))]\n",
    "\n",
    "    return [\n",
    "        dcc.Graph(\n",
    "            id=column,\n",
    "            figure={\n",
    "                \"data\": [\n",
    "                    {\n",
    "                        \"x\": dff[\"country\"],\n",
    "                        \"y\": dff[column],\n",
    "                        \"type\": \"bar\",\n",
    "                        \"marker\": {\"color\": colors},\n",
    "                    }\n",
    "                ],\n",
    "                \"layout\": {\n",
    "                    \"xaxis\": {\"automargin\": True},\n",
    "                    \"yaxis\": {\n",
    "                        \"automargin\": True,\n",
    "                        \"title\": {\"text\": column}\n",
    "                    },\n",
    "                    \"height\": 250,\n",
    "                    \"margin\": {\"t\": 10, \"l\": 10, \"r\": 10},\n",
    "                },\n",
    "            },\n",
    "        )\n",
    "        # check if column exists - user may have deleted it\n",
    "        # If `column.deletable=False`, then you don't\n",
    "        # need to do this check.\n",
    "        for column in [\"pop\", \"lifeExp\", \"gdpPercap\"] if column in dff\n",
    "    ]\n",
    "\n",
    "\n",
    "if __name__ == '__main__':\n",
    "    app.run_server(debug=True)"
   ]
  }
 ],
 "metadata": {
  "kernelspec": {
   "display_name": "Python 3",
   "language": "python",
   "name": "python3"
  },
  "language_info": {
   "codemirror_mode": {
    "name": "ipython",
    "version": 3
   },
   "file_extension": ".py",
   "mimetype": "text/x-python",
   "name": "python",
   "nbconvert_exporter": "python",
   "pygments_lexer": "ipython3",
   "version": "3.6.5"
  }
 },
 "nbformat": 4,
 "nbformat_minor": 2
}
