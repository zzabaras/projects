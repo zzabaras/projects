{
 "cells": [
  {
   "cell_type": "markdown",
   "metadata": {},
   "source": [
    "pip install dash==1.0.2  # The core dash backend <br>\n",
    "pip install dash-daq==0.1.0  # DAQ components (newly open-sourced!)\n",
    "\n",
    "Начиная с какой то версии dash автоматически инсталлит базовые зависимости, больше нет нужды перечилять их все"
   ]
  },
  {
   "cell_type": "markdown",
   "metadata": {},
   "source": [
    "dash построен на 3 фреймфорках:\n",
    " - Flask \n",
    " - Plotly.js\n",
    " - React.js"
   ]
  },
  {
   "cell_type": "code",
   "execution_count": 1,
   "metadata": {},
   "outputs": [
    {
     "name": "stdout",
     "output_type": "stream",
     "text": [
      "1.0.0\n"
     ]
    }
   ],
   "source": [
    "import dash_core_components\n",
    "print(dash_core_components.__version__)"
   ]
  }
 ],
 "metadata": {
  "kernelspec": {
   "display_name": "Python 3",
   "language": "python",
   "name": "python3"
  },
  "language_info": {
   "codemirror_mode": {
    "name": "ipython",
    "version": 3
   },
   "file_extension": ".py",
   "mimetype": "text/x-python",
   "name": "python",
   "nbconvert_exporter": "python",
   "pygments_lexer": "ipython3",
   "version": "3.6.5"
  }
 },
 "nbformat": 4,
 "nbformat_minor": 2
}
