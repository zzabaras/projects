{
 "cells": [
  {
   "cell_type": "code",
   "execution_count": 199,
   "metadata": {},
   "outputs": [],
   "source": [
    "import pandas as pd\n",
    "import numpy as np\n",
    "import matplotlib.pyplot as plt\n",
    "%matplotlib inline"
   ]
  },
  {
   "cell_type": "markdown",
   "metadata": {},
   "source": [
    "### wine reviews<br>\n",
    "country - The country that the wine is from <br>\n",
    "designation - The vineyard within the winery where the grapes that made the wine are from<br>\n",
    "points - The number of points WineEnthusiast rated the wine on a scale of 1-100 (though they say they only post reviews for wines that score >=80)<br>\n",
    "price - The cost for a bottle of the wine<br>\n",
    "province - The province or state that the wine is from<br>\n",
    "region_1 - The wine growing area in a province or state (ie Napa)<br>\n",
    "region_2 - Sometimes there are more specific regions specified within a wine growing area (ie Rutherford inside the Napa Valley), but this value can sometimes be blank<br>\n",
    "taster_name<br>\n",
    "taster_twitter_handle<br>\n",
    "title - The title of the wine review, which often contains the vintage if you're interested in extracting that \n",
    "feature<br>\n",
    "variety - The type of grapes used to make the wine (ie Pinot Noir)<br>\n",
    "winery - The winery that made the wine<br>"
   ]
  },
  {
   "cell_type": "code",
   "execution_count": 200,
   "metadata": {},
   "outputs": [],
   "source": [
    "df = pd.read_csv('../data/winemag-data_first150k.csv')"
   ]
  },
  {
   "cell_type": "code",
   "execution_count": 201,
   "metadata": {},
   "outputs": [],
   "source": [
    "df = df.dropna()"
   ]
  },
  {
   "cell_type": "code",
   "execution_count": 202,
   "metadata": {},
   "outputs": [
    {
     "name": "stdout",
     "output_type": "stream",
     "text": [
      "<class 'pandas.core.frame.DataFrame'>\n",
      "Int64Index: 39241 entries, 0 to 150916\n",
      "Data columns (total 11 columns):\n",
      "Unnamed: 0     39241 non-null int64\n",
      "country        39241 non-null object\n",
      "description    39241 non-null object\n",
      "designation    39241 non-null object\n",
      "points         39241 non-null int64\n",
      "price          39241 non-null float64\n",
      "province       39241 non-null object\n",
      "region_1       39241 non-null object\n",
      "region_2       39241 non-null object\n",
      "variety        39241 non-null object\n",
      "winery         39241 non-null object\n",
      "dtypes: float64(1), int64(2), object(8)\n",
      "memory usage: 3.6+ MB\n"
     ]
    }
   ],
   "source": [
    "df.info()"
   ]
  },
  {
   "cell_type": "code",
   "execution_count": 203,
   "metadata": {},
   "outputs": [
    {
     "data": {
      "text/html": [
       "<div>\n",
       "<style scoped>\n",
       "    .dataframe tbody tr th:only-of-type {\n",
       "        vertical-align: middle;\n",
       "    }\n",
       "\n",
       "    .dataframe tbody tr th {\n",
       "        vertical-align: top;\n",
       "    }\n",
       "\n",
       "    .dataframe thead th {\n",
       "        text-align: right;\n",
       "    }\n",
       "</style>\n",
       "<table border=\"1\" class=\"dataframe\">\n",
       "  <thead>\n",
       "    <tr style=\"text-align: right;\">\n",
       "      <th></th>\n",
       "      <th>Unnamed: 0</th>\n",
       "      <th>country</th>\n",
       "      <th>description</th>\n",
       "      <th>designation</th>\n",
       "      <th>points</th>\n",
       "      <th>price</th>\n",
       "      <th>province</th>\n",
       "      <th>region_1</th>\n",
       "      <th>region_2</th>\n",
       "      <th>variety</th>\n",
       "      <th>winery</th>\n",
       "    </tr>\n",
       "  </thead>\n",
       "  <tbody>\n",
       "    <tr>\n",
       "      <th>0</th>\n",
       "      <td>0</td>\n",
       "      <td>US</td>\n",
       "      <td>This tremendous 100% varietal wine hails from ...</td>\n",
       "      <td>Martha's Vineyard</td>\n",
       "      <td>96</td>\n",
       "      <td>235.0</td>\n",
       "      <td>California</td>\n",
       "      <td>Napa Valley</td>\n",
       "      <td>Napa</td>\n",
       "      <td>Cabernet Sauvignon</td>\n",
       "      <td>Heitz</td>\n",
       "    </tr>\n",
       "    <tr>\n",
       "      <th>2</th>\n",
       "      <td>2</td>\n",
       "      <td>US</td>\n",
       "      <td>Mac Watson honors the memory of a wine once ma...</td>\n",
       "      <td>Special Selected Late Harvest</td>\n",
       "      <td>96</td>\n",
       "      <td>90.0</td>\n",
       "      <td>California</td>\n",
       "      <td>Knights Valley</td>\n",
       "      <td>Sonoma</td>\n",
       "      <td>Sauvignon Blanc</td>\n",
       "      <td>Macauley</td>\n",
       "    </tr>\n",
       "    <tr>\n",
       "      <th>3</th>\n",
       "      <td>3</td>\n",
       "      <td>US</td>\n",
       "      <td>This spent 20 months in 30% new French oak, an...</td>\n",
       "      <td>Reserve</td>\n",
       "      <td>96</td>\n",
       "      <td>65.0</td>\n",
       "      <td>Oregon</td>\n",
       "      <td>Willamette Valley</td>\n",
       "      <td>Willamette Valley</td>\n",
       "      <td>Pinot Noir</td>\n",
       "      <td>Ponzi</td>\n",
       "    </tr>\n",
       "    <tr>\n",
       "      <th>8</th>\n",
       "      <td>8</td>\n",
       "      <td>US</td>\n",
       "      <td>This re-named vineyard was formerly bottled as...</td>\n",
       "      <td>Silice</td>\n",
       "      <td>95</td>\n",
       "      <td>65.0</td>\n",
       "      <td>Oregon</td>\n",
       "      <td>Chehalem Mountains</td>\n",
       "      <td>Willamette Valley</td>\n",
       "      <td>Pinot Noir</td>\n",
       "      <td>Bergström</td>\n",
       "    </tr>\n",
       "    <tr>\n",
       "      <th>9</th>\n",
       "      <td>9</td>\n",
       "      <td>US</td>\n",
       "      <td>The producer sources from two blocks of the vi...</td>\n",
       "      <td>Gap's Crown Vineyard</td>\n",
       "      <td>95</td>\n",
       "      <td>60.0</td>\n",
       "      <td>California</td>\n",
       "      <td>Sonoma Coast</td>\n",
       "      <td>Sonoma</td>\n",
       "      <td>Pinot Noir</td>\n",
       "      <td>Blue Farm</td>\n",
       "    </tr>\n",
       "  </tbody>\n",
       "</table>\n",
       "</div>"
      ],
      "text/plain": [
       "   Unnamed: 0 country                                        description  \\\n",
       "0           0      US  This tremendous 100% varietal wine hails from ...   \n",
       "2           2      US  Mac Watson honors the memory of a wine once ma...   \n",
       "3           3      US  This spent 20 months in 30% new French oak, an...   \n",
       "8           8      US  This re-named vineyard was formerly bottled as...   \n",
       "9           9      US  The producer sources from two blocks of the vi...   \n",
       "\n",
       "                     designation  points  price    province  \\\n",
       "0              Martha's Vineyard      96  235.0  California   \n",
       "2  Special Selected Late Harvest      96   90.0  California   \n",
       "3                        Reserve      96   65.0      Oregon   \n",
       "8                         Silice      95   65.0      Oregon   \n",
       "9           Gap's Crown Vineyard      95   60.0  California   \n",
       "\n",
       "             region_1           region_2             variety     winery  \n",
       "0         Napa Valley               Napa  Cabernet Sauvignon      Heitz  \n",
       "2      Knights Valley             Sonoma     Sauvignon Blanc   Macauley  \n",
       "3   Willamette Valley  Willamette Valley          Pinot Noir      Ponzi  \n",
       "8  Chehalem Mountains  Willamette Valley          Pinot Noir  Bergström  \n",
       "9        Sonoma Coast             Sonoma          Pinot Noir  Blue Farm  "
      ]
     },
     "execution_count": 203,
     "metadata": {},
     "output_type": "execute_result"
    }
   ],
   "source": [
    "df.head()"
   ]
  },
  {
   "cell_type": "code",
   "execution_count": 204,
   "metadata": {},
   "outputs": [
    {
     "data": {
      "image/png": "[encoded data removed]",
      "text/plain": [
       "<Figure size 432x288 with 1 Axes>"
      ]
     },
     "metadata": {},
     "output_type": "display_data"
    }
   ],
   "source": [
    "df['price'].hist(bins=100);"
   ]
  },
  {
   "cell_type": "code",
   "execution_count": 205,
   "metadata": {},
   "outputs": [
    {
     "data": {
      "image/png": "[encoded data removed]",
      "text/plain": [
       "<Figure size 432x288 with 1 Axes>"
      ]
     },
     "metadata": {},
     "output_type": "display_data"
    }
   ],
   "source": [
    "df[df['price'] < df['price'].quantile(0.99)]['price'].hist(bins=100);"
   ]
  },
  {
   "cell_type": "code",
   "execution_count": 206,
   "metadata": {},
   "outputs": [
    {
     "data": {
      "text/plain": [
       "(37.54631635279427, 32.0)"
      ]
     },
     "execution_count": 206,
     "metadata": {},
     "output_type": "execute_result"
    }
   ],
   "source": [
    "df['price'].mean(), df['price'].median()"
   ]
  },
  {
   "cell_type": "code",
   "execution_count": 207,
   "metadata": {},
   "outputs": [],
   "source": [
    "threshold = df['price'].median()\n",
    "df['is_swag'] = df['price'].apply(lambda x: 1 if x > threshold else 0)"
   ]
  },
  {
   "cell_type": "code",
   "execution_count": 208,
   "metadata": {},
   "outputs": [
    {
     "data": {
      "text/plain": [
       "((19278, 12), (19963, 12))"
      ]
     },
     "execution_count": 208,
     "metadata": {},
     "output_type": "execute_result"
    }
   ],
   "source": [
    "df[df['is_swag'] == 1].shape, df[df['is_swag'] == 0].shape"
   ]
  },
  {
   "cell_type": "markdown",
   "metadata": {},
   "source": [
    "## Доверительные интервалы для доли"
   ]
  },
  {
   "cell_type": "markdown",
   "metadata": {},
   "source": [
    "На основе той же самой нормальной аппроксимации\n",
    "$$\\hat{p}\\pm z_{1-\\frac{\\alpha}{2}} \\sqrt{\\frac{\\hat{p}\\left(1-\\hat{p}\\right)}{n}}$$"
   ]
  },
  {
   "cell_type": "code",
   "execution_count": 209,
   "metadata": {},
   "outputs": [],
   "source": [
    "from statsmodels.stats.proportion import proportion_confint\n",
    "from scipy.stats import norm"
   ]
  },
  {
   "cell_type": "code",
   "execution_count": 211,
   "metadata": {},
   "outputs": [
    {
     "name": "stdout",
     "output_type": "stream",
     "text": [
      "proportion swag wines in California is 0.5257905242147284\n",
      "proportion swag wines in Oregon is 0.5805070793546263\n",
      "proportion swag wines in Washington is 0.3753675269519765\n",
      "proportion swag wines in New York is 0.13245901639344262\n"
     ]
    }
   ],
   "source": [
    "for province in df['province'].unique():\n",
    "    df_prop = df[df['province'] == province]\n",
    "    prop = sum(df_prop['is_swag']) / len(df_prop)\n",
    "    print('proportion swag wines in {0} is {1}'.format(province,prop))"
   ]
  },
  {
   "cell_type": "code",
   "execution_count": 212,
   "metadata": {},
   "outputs": [
    {
     "name": "stdout",
     "output_type": "stream",
     "text": [
      "interval of proportion swag wines in California is (0.5199991278163051, 0.5315819206131517)\n",
      "interval of proportion swag wines in Oregon is (0.5629564872321101, 0.5980576714771425)\n",
      "interval of proportion swag wines in Washington is (0.36323805046059787, 0.38749700344335514)\n",
      "interval of proportion swag wines in New York is (0.11544531006168147, 0.1494727227252038)\n"
     ]
    }
   ],
   "source": [
    "for province in df['province'].unique():\n",
    "    df_prop = df[df['province'] == province]\n",
    "    prop = sum(df_prop['is_swag']) / len(df_prop)\n",
    "    prop_int = proportion_confint(sum(df_prop['is_swag']),len(df_prop),alpha=0.05,method='normal')\n",
    "    print('interval of proportion swag wines in {0} is {1}'.format(province,prop_int))"
   ]
  },
  {
   "cell_type": "code",
   "execution_count": 213,
   "metadata": {},
   "outputs": [
    {
     "data": {
      "text/plain": [
       "(0.11544531006168147, 0.1494727227252038)"
      ]
     },
     "execution_count": 213,
     "metadata": {},
     "output_type": "execute_result"
    }
   ],
   "source": [
    "#посчитано ручками по формуле выше\n",
    "z=norm.ppf(1 - 0.05 / 2)\n",
    "prop-z*np.sqrt((prop*(1-prop))/len(df_prop)) , prop + z*np.sqrt((prop*(1-prop))/len(df_prop))"
   ]
  },
  {
   "cell_type": "markdown",
   "metadata": {},
   "source": [
    "## Доверительные интервалы для средних"
   ]
  },
  {
   "cell_type": "markdown",
   "metadata": {},
   "source": [
    "Нормальная аппроксимация\n",
    "$$\\bar{X}_n \\pm t_{1-\\frac{\\alpha}{2}} \\frac{S}{\\sqrt{n}}$$"
   ]
  },
  {
   "cell_type": "code",
   "execution_count": 214,
   "metadata": {},
   "outputs": [],
   "source": [
    "from statsmodels.stats.weightstats import _tconfint_generic"
   ]
  },
  {
   "cell_type": "code",
   "execution_count": 216,
   "metadata": {},
   "outputs": [],
   "source": [
    "swag_mean_points = df[df['is_swag'] == 1]['points'].mean()\n",
    "swag_mean_std = df[df['is_swag'] == 1]['points'].std()/np.sqrt(len(df[df['is_swag'] == 1]['points']))\n",
    "\n",
    "cheap_mean_points = df[df['is_swag'] == 0]['points'].mean()\n",
    "cheap_mean_std = df[df['is_swag'] == 0]['points'].std()/np.sqrt(len(df[df['is_swag'] == 0]['points']))"
   ]
  },
  {
   "cell_type": "code",
   "execution_count": 217,
   "metadata": {},
   "outputs": [
    {
     "data": {
      "text/plain": [
       "(89.88141923436041, 86.89074788358464)"
      ]
     },
     "execution_count": 217,
     "metadata": {},
     "output_type": "execute_result"
    }
   ],
   "source": [
    "swag_mean_points, cheap_mean_points"
   ]
  },
  {
   "cell_type": "code",
   "execution_count": 218,
   "metadata": {},
   "outputs": [],
   "source": [
    "swag_interval = _tconfint_generic(swag_mean_points, swag_mean_std, len(df[df['is_swag'] == 1]['points']) - 1,\\\n",
    "                                  0.01,alternative='two-sided')\n",
    "cheap_interval = _tconfint_generic(cheap_mean_points, cheap_mean_std, len(df[df['is_swag'] == 0]['points']) - 1,\\\n",
    "                                   0.01,alternative='two-sided')\n"
   ]
  },
  {
   "cell_type": "code",
   "execution_count": 219,
   "metadata": {},
   "outputs": [
    {
     "name": "stdout",
     "output_type": "stream",
     "text": [
      "(89.82045903531103, 89.94237943340978)\n",
      "(86.83783303611764, 86.94366273105163)\n"
     ]
    }
   ],
   "source": [
    "print(swag_interval)\n",
    "print(cheap_interval)"
   ]
  },
  {
   "cell_type": "markdown",
   "metadata": {},
   "source": [
    "## Bootstrap"
   ]
  },
  {
   "cell_type": "markdown",
   "metadata": {},
   "source": [
    "<img src=\"../img/bootstrap.png\" alt=\"lokh\" height=\"400\" width=\"500\">\n",
    "\n",
    "\n",
    "Метод бутстрэпа заключается в следующем. Пусть имеется выборка X размера N и есть некая статистика, например\n",
    "медиана.  Из исходной выборки мы можем выбирать N объектов с возвращением. Это означает что мы \n",
    "будем N раз брать произвольный объект из выборки с одинаковой вероятностью 1/N. Таким образом мы можем получить\n",
    "какое то количество bootstrap выборок и на основе их посчитать нашу статитику и тогда получим bootstrap\n",
    "распределение нашей статистики. Некий способ получить практическое распределение нужной нам статистики."
   ]
  },
  {
   "cell_type": "code",
   "execution_count": 220,
   "metadata": {},
   "outputs": [
    {
     "data": {
      "image/png": "[encoded data removed]",
      "text/plain": [
       "<Figure size 432x288 with 1 Axes>"
      ]
     },
     "metadata": {},
     "output_type": "display_data"
    }
   ],
   "source": [
    "df[df['region_1'] == 'Livermore Valley']['price'].hist();"
   ]
  },
  {
   "cell_type": "code",
   "execution_count": 222,
   "metadata": {},
   "outputs": [
    {
     "data": {
      "text/plain": [
       "(331,)"
      ]
     },
     "execution_count": 222,
     "metadata": {},
     "output_type": "execute_result"
    }
   ],
   "source": [
    "df[df['region_1'] == 'Livermore Valley']['price'].shape"
   ]
  },
  {
   "cell_type": "code",
   "execution_count": 221,
   "metadata": {},
   "outputs": [
    {
     "data": {
      "text/plain": [
       "27.0"
      ]
     },
     "execution_count": 221,
     "metadata": {},
     "output_type": "execute_result"
    }
   ],
   "source": [
    "df[df['region_1'] == 'Livermore Valley']['price'].median()"
   ]
  },
  {
   "cell_type": "code",
   "execution_count": 223,
   "metadata": {},
   "outputs": [],
   "source": [
    "def get_bootstrap_samples(data, n_samples):\n",
    "    indices = np.random.randint(0, len(data), (n_samples, len(data)))\n",
    "    samples = data[indices]\n",
    "    return samples\n",
    "\n",
    "def stat_intervals(stat, alpha):\n",
    "    boundaries = np.percentile(stat, [100 * alpha / 2., 100 * (1 - alpha / 2.)])\n",
    "    return boundaries"
   ]
  },
  {
   "cell_type": "code",
   "execution_count": 224,
   "metadata": {},
   "outputs": [],
   "source": [
    "np.random.seed(17)\n",
    "\n",
    "median_region_prices = list(map(np.median,get_bootstrap_samples(df[df['region_1'] == 'Livermore Valley']['price'].values,10000)))\n"
   ]
  },
  {
   "cell_type": "code",
   "execution_count": 225,
   "metadata": {},
   "outputs": [
    {
     "data": {
      "image/png": "[encoded data removed]",
      "text/plain": [
       "<Figure size 432x288 with 1 Axes>"
      ]
     },
     "metadata": {},
     "output_type": "display_data"
    }
   ],
   "source": [
    "plt.hist(median_region_prices);"
   ]
  },
  {
   "cell_type": "code",
   "execution_count": 226,
   "metadata": {},
   "outputs": [
    {
     "data": {
      "text/plain": [
       "array([25., 28.])"
      ]
     },
     "execution_count": 226,
     "metadata": {},
     "output_type": "execute_result"
    }
   ],
   "source": [
    "stat_intervals(median_region_prices,0.05)"
   ]
  }
 ],
 "metadata": {
  "kernelspec": {
   "display_name": "Python 3",
   "language": "python",
   "name": "python3"
  },
  "language_info": {
   "codemirror_mode": {
    "name": "ipython",
    "version": 3
   },
   "file_extension": ".py",
   "mimetype": "text/x-python",
   "name": "python",
   "nbconvert_exporter": "python",
   "pygments_lexer": "ipython3",
   "version": "3.6.5"
  }
 },
 "nbformat": 4,
 "nbformat_minor": 2
}
