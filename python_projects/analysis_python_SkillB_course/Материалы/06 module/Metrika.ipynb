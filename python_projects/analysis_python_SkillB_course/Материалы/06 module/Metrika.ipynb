{
 "cells": [
  {
   "cell_type": "code",
   "execution_count": 36,
   "metadata": {},
   "outputs": [
    {
     "name": "stdout",
     "output_type": "stream",
     "text": [
      "total Count_1 ['36551.0', ' 10112.0']\n",
      "total Count_2 ['22768699.0', ' 586691.0']\n",
      "total Count_3 ['13693.0', ' 7848.0']\n"
     ]
    }
   ],
   "source": [
    "import requests\n",
    "import sys\n",
    "\n",
    "\n",
    "ids = {\n",
    "\n",
    "    'Count_1': 49948510,\n",
    "    'Count_2': 42219334,\n",
    "    'Count_3': 21781912,\n",
    "}\n",
    "\n",
    "\n",
    "payload = {\n",
    "    'metrics': 'ym:s:pageviews, ym:s:users',\n",
    "    'date1': '2018-09-01',\n",
    "    'date2': '2018-11-30',\n",
    "    'filters': \"ym:s:deviceCategory!='mobile'\",\n",
    "    'ids': 49948510,\n",
    "    'accuracy': 'full',\n",
    "    'pretty': True,\n",
    "    'oauth_token': 'AQAEA7qiTBNJAAVUsos1JB7stE6fiJV_SG11uso'\n",
    "}\n",
    "\n",
    "i = 1\n",
    "for key, value in ids.items():\n",
    "    payload['ids'] = value\n",
    "    r = requests.get('https://api-metrika.yandex.ru/stat/v1/data', params=payload)\n",
    "    data = str(r.json()['max'])[1:-1].split(\",\")\n",
    "    i += 1\n",
    "    payload['ids'] = value\n",
    "    print('total', key, data)\n",
    "\n",
    "\n"
   ]
  },
  {
   "cell_type": "code",
   "execution_count": 42,
   "metadata": {},
   "outputs": [
    {
     "name": "stdout",
     "output_type": "stream",
     "text": [
      "Счетчик Count_1 ['36551.0', ' 10112.0', ' 17309.0']\n",
      "Счетчик Count_2 ['22768699.0', ' 584861.0', ' 2656932.0']\n",
      "Счетчик Count_3 ['13693.0', ' 7848.0', ' 10047.0']\n",
      "Счетчик Count_4 ['36551.0', ' 10112.0', ' 17309.0']\n",
      "Счетчик Count_5 ['22768699.0', ' 584861.0', ' 2656932.0']\n",
      "Счетчик Count_6 ['13693.0', ' 7848.0', ' 10047.0']\n"
     ]
    }
   ],
   "source": [
    "import requests\n",
    "import xlsxwriter\n",
    "\n",
    "\n",
    "workbook = xlsxwriter.Workbook('/Users/sashashi/Desktop/File.xlsx')\n",
    "worksheet = workbook.add_worksheet()\n",
    "bold = workbook.add_format({'bold': True})\n",
    "worksheet.write(0, 0, 'Название счетчика', bold)\n",
    "worksheet.write(0, 1, 'Номер счетчика', bold)\n",
    "worksheet.write(0, 2, 'Pageviews', bold)\n",
    "worksheet.write(0, 3, 'Users', bold)\n",
    "worksheet.write(0, 4, 'Visits', bold)\n",
    "\n",
    "\n",
    "ids = {\n",
    "\n",
    "    'Count_1': 49948510,\n",
    "    'Count_2': 42219334,\n",
    "    'Count_3': 21781912,\n",
    "}\n",
    "\n",
    "payload = {\n",
    "    'metrics': 'ym:s:pageviews, ym:s:users, ym:s:visits',\n",
    "    'date1': '2018-09-01',\n",
    "    'date2': '2018-11-30',\n",
    "    'filters': \"ym:s:deviceCategory!='mobile'\",\n",
    "    'ids': 49948510,\n",
    "    'accuracy': 'high',\n",
    "    'limit': 10000,\n",
    "    'pretty': True,\n",
    "    'oauth_token':'AQAEA7qiTBNJAAVUsos1JB7stE6fiJV_SG11uso'\n",
    "}\n",
    "\n",
    "i = 1\n",
    "for key, value in ids.items():\n",
    "    payload['ids'] = value\n",
    "    r = requests.get('https://api-metrika.yandex.ru/stat/v1/data', params=payload)\n",
    "    worksheet.write(i, 0, key)\n",
    "    worksheet.write(i, 1, str(payload['ids']))\n",
    "    data = str(r.json()['max'])[1:-1].split(\",\")\n",
    "    worksheet.write(i, 2, data[0])\n",
    "    worksheet.write(i, 3, data[1])\n",
    "    worksheet.write(i, 4, data[2])\n",
    "    i += 1\n",
    "    payload['ids'] = value\n",
    "    print('Счетчик', key, data)\n",
    "\n",
    "\n",
    "workbook.close()\n"
   ]
  },
  {
   "cell_type": "code",
   "execution_count": null,
   "metadata": {},
   "outputs": [],
   "source": []
  },
  {
   "cell_type": "code",
   "execution_count": null,
   "metadata": {},
   "outputs": [],
   "source": []
  }
 ],
 "metadata": {
  "kernelspec": {
   "display_name": "Python 3",
   "language": "python",
   "name": "python3"
  },
  "language_info": {
   "codemirror_mode": {
    "name": "ipython",
    "version": 3
   },
   "file_extension": ".py",
   "mimetype": "text/x-python",
   "name": "python",
   "nbconvert_exporter": "python",
   "pygments_lexer": "ipython3",
   "version": "3.7.0"
  }
 },
 "nbformat": 4,
 "nbformat_minor": 2
}
