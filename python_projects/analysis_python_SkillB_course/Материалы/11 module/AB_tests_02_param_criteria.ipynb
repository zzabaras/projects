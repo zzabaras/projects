{
 "cells": [
  {
   "cell_type": "markdown",
   "metadata": {},
   "source": [
    "### А/Б-тестирование с помощью Python. Параметрические оценки."
   ]
  },
  {
   "cell_type": "code",
   "execution_count": 1,
   "metadata": {},
   "outputs": [
    {
     "data": {
      "text/plain": [
       "'3.7.1 (default, Dec 10 2018, 22:54:23) [MSC v.1915 64 bit (AMD64)]'"
      ]
     },
     "execution_count": 1,
     "metadata": {},
     "output_type": "execute_result"
    }
   ],
   "source": [
    "import sys\n",
    "sys.version"
   ]
  },
  {
   "cell_type": "code",
   "execution_count": 2,
   "metadata": {},
   "outputs": [],
   "source": [
    "import pandas as pd #https://pandas.pydata.org/\n",
    "import numpy as np #https://www.numpy.org/\n",
    "import scipy as sc #https://www.scipy.org/\n",
    "\n",
    "import matplotlib.pyplot as plt #https://matplotlib.org/\n",
    "import seaborn as sns #https://seaborn.pydata.org/\n",
    "import plotly #https://plot.ly/\n",
    "\n",
    "%matplotlib inline \n",
    "\n",
    "import warnings\n",
    "warnings.simplefilter('ignore') #Здесь мы будем игнорировать предупреждения о грядущих изменениях вызовов sc.stats и прочего"
   ]
  },
  {
   "cell_type": "markdown",
   "metadata": {},
   "source": [
    "**$H_0$** -- основная гипотеза, $\\mathcal{F} = \\mathcal{F_0}$  \n",
    "**$H_1$** -- альтернативная гипотеза $\\mathcal{F} \\ne \\mathcal{F_0}$"
   ]
  },
  {
   "cell_type": "markdown",
   "metadata": {},
   "source": [
    "Пусть существует некоторая статистика $\\rho(X)$, такая, что:  \n",
    "если **$H_0$** верна, то $\\rho(X)$ имеет полностью известное распределение $\\mathcal{G}$,  \n",
    "если **$H_0$** не верна, то $\\rho(X) \\stackrel{p}{\\longrightarrow} \\infty$.  \n",
    "Пусть $\\varepsilon = P(|\\eta| \\ge C)$  \n",
    "**_Критерий согласия_** $\\delta(X)$:  \n",
    "$\\delta(X) = H_0, |\\rho(X)| < C$,  \n",
    "$\\delta(X) = H_1, |\\rho(X)| \\ge C$."
   ]
  },
  {
   "cell_type": "markdown",
   "metadata": {},
   "source": [
    "**_Критерий согласия $\\chi^2$ (Пирсона)_** "
   ]
  },
  {
   "cell_type": "markdown",
   "metadata": {},
   "source": [
    "##### Задача\n",
    "Мы вышли на улицу в городе.\n",
    "Стали считать встречающихся мужчин и женщин до 1000. При этом нам встретилось 589 женщин и 411 мужчин.\n",
    "Можем ли мы сказать, что количество мужчин и женщин в городе одинаково?"
   ]
  },
  {
   "cell_type": "markdown",
   "metadata": {},
   "source": [
    "$H_0$: количество мужчин и женщин строго одинаково; вероятность того, что случайный встреченный человек является мужчиной = 0.5  \n",
    "$H_1$: вероятности не равны."
   ]
  },
  {
   "cell_type": "code",
   "execution_count": 3,
   "metadata": {},
   "outputs": [
    {
     "data": {
      "text/plain": [
       "Power_divergenceResult(statistic=31.684, pvalue=1.8141062046967342e-08)"
      ]
     },
     "execution_count": 3,
     "metadata": {},
     "output_type": "execute_result"
    }
   ],
   "source": [
    "N = 1000\n",
    "females = 589\n",
    "males = N - females\n",
    "observed = [females, males]\n",
    "expected = [N/2, N/2]\n",
    "sc.stats.chisquare(f_obs=observed, f_exp=expected)"
   ]
  },
  {
   "cell_type": "code",
   "execution_count": 4,
   "metadata": {},
   "outputs": [
    {
     "data": {
      "text/plain": [
       "Power_divergenceResult(statistic=360.0, pvalue=2.8156843046193504e-80)"
      ]
     },
     "execution_count": 4,
     "metadata": {},
     "output_type": "execute_result"
    }
   ],
   "source": [
    "N = 1000\n",
    "females = 800\n",
    "males = N - females\n",
    "observed = [females, males]\n",
    "expected = [N/2, N/2]\n",
    "sc.stats.chisquare(f_obs=observed, f_exp=expected)"
   ]
  },
  {
   "cell_type": "code",
   "execution_count": 5,
   "metadata": {},
   "outputs": [
    {
     "data": {
      "text/plain": [
       "Power_divergenceResult(statistic=0.0, pvalue=1.0)"
      ]
     },
     "execution_count": 5,
     "metadata": {},
     "output_type": "execute_result"
    }
   ],
   "source": [
    "N = 1000\n",
    "females = 500\n",
    "males = N - females\n",
    "observed = [females, males]\n",
    "expected = [N/2, N/2]\n",
    "sc.stats.chisquare(f_obs=observed, f_exp=expected)"
   ]
  },
  {
   "cell_type": "markdown",
   "metadata": {},
   "source": [
    "<tbody>\n",
    "<tr><th>\n",
    "<td> </td>\n",
    "<td>наблюдались побочные эффекты</td>\n",
    "<td>не наблюдались побочные эффекты</td>\n",
    "<td>всего</td>\n",
    "</th></tr>\n",
    "<tr><th>\n",
    "<td>плацебо</td>\n",
    "<td>15</td>\n",
    "<td>47</td>\n",
    "<td>62</td>\n",
    "</th></tr>\n",
    "<tr><th>\n",
    "<td>препарат</td>\n",
    "<td>28</td>\n",
    "<td>31</td>\n",
    "<td>59</td>\n",
    "</th></tr>\n",
    "<tr><th>\n",
    "<td>всего</td>\n",
    "<td>43</td>\n",
    "<td>78</td>\n",
    "<td>121</td>\n",
    "</th></tr>\n",
    "</tbody>"
   ]
  },
  {
   "cell_type": "markdown",
   "metadata": {},
   "source": [
    "$H_0$: наблюдения побочных эффектов совершенно случайны и не связаны с действием препарата.  \n",
    "$H_1$: наблюдения не случайны."
   ]
  },
  {
   "cell_type": "code",
   "execution_count": 6,
   "metadata": {},
   "outputs": [
    {
     "data": {
      "text/plain": [
       "(6.162860813801885, 0.013046004363013213, 1, array([[22.03305785, 39.96694215],\n",
       "        [20.96694215, 38.03305785]]))"
      ]
     },
     "execution_count": 6,
     "metadata": {},
     "output_type": "execute_result"
    }
   ],
   "source": [
    "observed1 = [15, 47]\n",
    "observed2 = [28, 31]\n",
    "data = np.array([observed1, observed2])\n",
    "sc.stats.chi2_contingency(data)"
   ]
  },
  {
   "cell_type": "code",
   "execution_count": 7,
   "metadata": {},
   "outputs": [
    {
     "data": {
      "text/plain": [
       "(13.411050985782776,\n",
       " 0.0002501462216232241,\n",
       " 1,\n",
       " array([[27.09359606, 72.90640394],\n",
       "        [27.90640394, 75.09359606]]))"
      ]
     },
     "execution_count": 7,
     "metadata": {},
     "output_type": "execute_result"
    }
   ],
   "source": [
    "observed1 = [15, 85]\n",
    "observed2 = [40, 63]\n",
    "data = np.array([observed1, observed2])\n",
    "sc.stats.chi2_contingency(data)"
   ]
  },
  {
   "cell_type": "markdown",
   "metadata": {},
   "source": [
    "**_Критерий Стьюдента_** "
   ]
  },
  {
   "cell_type": "markdown",
   "metadata": {},
   "source": [
    "Известно, что:  \n",
    "$X \\sim \\mathcal{N}(a_x, \\sigma^2)$  \n",
    "$Y \\sim \\mathcal{N}(a_y, \\sigma^2)$  \n",
    "$H_0: a_x = a_y$"
   ]
  },
  {
   "cell_type": "markdown",
   "metadata": {},
   "source": [
    "**NB**  \n",
    "Везде, где нормальность данных предусматривается критерием как условие применимости, неплохо бы её проверить :)"
   ]
  },
  {
   "cell_type": "markdown",
   "metadata": {},
   "source": [
    "##### Задача\n",
    "Меряем рост у женщин в городе."
   ]
  },
  {
   "cell_type": "code",
   "execution_count": 8,
   "metadata": {},
   "outputs": [],
   "source": [
    "N = 100\n",
    "N_half = int(N/2)\n",
    "female_height = np.concatenate([np.random.normal(180, 2, N_half), np.random.normal(160, 2, N_half)])"
   ]
  },
  {
   "cell_type": "code",
   "execution_count": 9,
   "metadata": {},
   "outputs": [
    {
     "data": {
      "image/png": "[encoded data removed]",
      "text/plain": [
       "<Figure size 432x288 with 1 Axes>"
      ]
     },
     "metadata": {
      "needs_background": "light"
     },
     "output_type": "display_data"
    }
   ],
   "source": [
    "plt.hist(female_height, color='seagreen', alpha=0.5)\n",
    "plt.title('female height histogram')\n",
    "plt.show()"
   ]
  },
  {
   "cell_type": "code",
   "execution_count": 10,
   "metadata": {},
   "outputs": [],
   "source": [
    "expected_mean_height = 170"
   ]
  },
  {
   "cell_type": "code",
   "execution_count": 11,
   "metadata": {},
   "outputs": [
    {
     "data": {
      "text/plain": [
       "Ttest_1sampResult(statistic=0.3646411336731907, pvalue=0.7161570502862438)"
      ]
     },
     "execution_count": 11,
     "metadata": {},
     "output_type": "execute_result"
    }
   ],
   "source": [
    "sc.stats.ttest_1samp(female_height, expected_mean_height)"
   ]
  },
  {
   "cell_type": "markdown",
   "metadata": {},
   "source": [
    "##### Задача\n",
    "Пусть мы измерили рост случайных прохожих женщин и мужчин, по 100 человек.  \n",
    "Вопрос, есть ли существенные различия в среднем росте?"
   ]
  },
  {
   "cell_type": "code",
   "execution_count": 12,
   "metadata": {},
   "outputs": [],
   "source": [
    "N = 100\n",
    "female_height = np.random.normal(165, 5, N)\n",
    "male_height = np.random.normal(180, 5, N)"
   ]
  },
  {
   "cell_type": "code",
   "execution_count": 13,
   "metadata": {},
   "outputs": [
    {
     "data": {
      "image/png": "[encoded data removed]",
      "text/plain": [
       "<Figure size 432x288 with 1 Axes>"
      ]
     },
     "metadata": {
      "needs_background": "light"
     },
     "output_type": "display_data"
    }
   ],
   "source": [
    "sns.distplot(female_height, color='seagreen', label='females')\n",
    "sns.distplot(male_height, color='cornflowerblue', label='males')\n",
    "plt.title('height histogram')\n",
    "plt.legend()\n",
    "plt.show()"
   ]
  },
  {
   "cell_type": "code",
   "execution_count": 14,
   "metadata": {},
   "outputs": [
    {
     "data": {
      "text/plain": [
       "Ttest_1sampResult(statistic=0.565690418139141, pvalue=0.572884169610729)"
      ]
     },
     "execution_count": 14,
     "metadata": {},
     "output_type": "execute_result"
    }
   ],
   "source": [
    "# Внимание! \n",
    "# The test measures whether the average (expected) value differs significantly across samples. \n",
    "# If we observe a large p-value, for example larger than 0.05 or 0.1, then we cannot reject the null hypothesis of identical average scores. \n",
    "expected_mean_height = 165\n",
    "sc.stats.ttest_1samp(female_height, expected_mean_height)"
   ]
  },
  {
   "cell_type": "code",
   "execution_count": 15,
   "metadata": {},
   "outputs": [
    {
     "data": {
      "text/plain": [
       "Ttest_1sampResult(statistic=-28.059944786109565, pvalue=6.388997874468222e-49)"
      ]
     },
     "execution_count": 15,
     "metadata": {},
     "output_type": "execute_result"
    }
   ],
   "source": [
    "expected_mean_height = 180\n",
    "sc.stats.ttest_1samp(female_height, expected_mean_height)"
   ]
  },
  {
   "cell_type": "code",
   "execution_count": 16,
   "metadata": {},
   "outputs": [
    {
     "data": {
      "text/plain": [
       "Ttest_indResult(statistic=-20.634523977067833, pvalue=3.136689398016528e-51)"
      ]
     },
     "execution_count": 16,
     "metadata": {},
     "output_type": "execute_result"
    }
   ],
   "source": [
    "sc.stats.ttest_ind(a=female_height, b=male_height)"
   ]
  },
  {
   "cell_type": "markdown",
   "metadata": {},
   "source": [
    "**_Критерий Фишера_** "
   ]
  },
  {
   "cell_type": "markdown",
   "metadata": {},
   "source": [
    "Известно, что:  \n",
    "$X \\sim \\mathcal{N}(a_x, \\sigma_x^2)$  \n",
    "$Y \\sim \\mathcal{N}(a_y, \\sigma_y^2)$  \n",
    "$H_0: \\sigma_x^2 = \\sigma_y^2$"
   ]
  },
  {
   "cell_type": "markdown",
   "metadata": {},
   "source": [
    "##### Задача\n",
    "Есть две партии одинакового мороженого с двух разных заводов, которые изготовлялись на разном оборудовании.  \n",
    "Мы измеряем вес мороженого. Есть ли различия в точности оборудования?"
   ]
  },
  {
   "cell_type": "code",
   "execution_count": 17,
   "metadata": {},
   "outputs": [],
   "source": [
    "N = 10\n",
    "ice_cream1 = np.random.normal(50, 5, N)\n",
    "ice_cream2 = np.random.normal(50, 10, N)"
   ]
  },
  {
   "cell_type": "code",
   "execution_count": 18,
   "metadata": {
    "scrolled": true
   },
   "outputs": [
    {
     "data": {
      "image/png": "[encoded data removed]",
      "text/plain": [
       "<Figure size 432x288 with 1 Axes>"
      ]
     },
     "metadata": {
      "needs_background": "light"
     },
     "output_type": "display_data"
    }
   ],
   "source": [
    "sns.distplot(ice_cream1, color='crimson', label='first prod site')\n",
    "sns.distplot(ice_cream2, color='blue', label='second prod site')\n",
    "plt.title('height histogram')\n",
    "plt.legend()\n",
    "plt.show()"
   ]
  },
  {
   "cell_type": "code",
   "execution_count": 19,
   "metadata": {},
   "outputs": [
    {
     "name": "stdout",
     "output_type": "stream",
     "text": [
      "p-value: 0.0480863145\n"
     ]
    }
   ],
   "source": [
    "# Вычислим F: отношение дисперсий\n",
    "F = ice_cream1.var(ddof=1) / ice_cream2.var(ddof=1)\n",
    "# степени свободы\n",
    "df1 = len(ice_cream1) - 1\n",
    "df2 = len(ice_cream2) - 1\n",
    "p_value = sc.stats.f.cdf(F, df1, df2) # получаем p-value из функции распределения для нашей случайной величины F\n",
    "print('p-value: {:.10f}'.format(p_value))"
   ]
  },
  {
   "cell_type": "code",
   "execution_count": 20,
   "metadata": {},
   "outputs": [],
   "source": [
    "N = 100\n",
    "ice_cream1 = np.random.normal(50, 5, N)\n",
    "ice_cream2 = np.random.normal(50, 10, N)"
   ]
  },
  {
   "cell_type": "code",
   "execution_count": 21,
   "metadata": {},
   "outputs": [
    {
     "data": {
      "image/png": "[encoded data removed]",
      "text/plain": [
       "<Figure size 432x288 with 1 Axes>"
      ]
     },
     "metadata": {
      "needs_background": "light"
     },
     "output_type": "display_data"
    }
   ],
   "source": [
    "sns.distplot(ice_cream1, color='crimson', label='first prod site')\n",
    "sns.distplot(ice_cream2, color='blue', label='second prod site')\n",
    "plt.title('height histogram')\n",
    "plt.legend()\n",
    "plt.show()"
   ]
  },
  {
   "cell_type": "code",
   "execution_count": 22,
   "metadata": {},
   "outputs": [
    {
     "name": "stdout",
     "output_type": "stream",
     "text": [
      "p-value: 0.0000000000\n"
     ]
    }
   ],
   "source": [
    "# Вычислим F: отношение дисперсий\n",
    "F = ice_cream1.var(ddof=1) / ice_cream2.var(ddof=1)\n",
    "# степени свободы\n",
    "df1 = len(ice_cream1) - 1\n",
    "df2 = len(ice_cream2) - 1\n",
    "p_value = sc.stats.f.cdf(F, df1, df2) # получаем p-value из функции распределения для нашей случайной величины F\n",
    "print('p-value: {:.10f}'.format(p_value))"
   ]
  },
  {
   "cell_type": "markdown",
   "metadata": {},
   "source": [
    "Вернёмся к примеру с побочными эффектами.  "
   ]
  },
  {
   "cell_type": "markdown",
   "metadata": {},
   "source": [
    "<tbody>\n",
    "<tr><th>\n",
    "<td> </td>\n",
    "<td>наблюдались побочные эффекты</td>\n",
    "<td>не наблюдались побочные эффекты</td>\n",
    "<td>всего</td>\n",
    "</th></tr>\n",
    "<tr><th>\n",
    "<td>плацебо</td>\n",
    "<td>15</td>\n",
    "<td>47</td>\n",
    "<td>62</td>\n",
    "</th></tr>\n",
    "<tr><th>\n",
    "<td>препарат</td>\n",
    "<td>28</td>\n",
    "<td>31</td>\n",
    "<td>59</td>\n",
    "</th></tr>\n",
    "<tr><th>\n",
    "<td>всего</td>\n",
    "<td>43</td>\n",
    "<td>78</td>\n",
    "<td>121</td>\n",
    "</th></tr>\n",
    "</tbody>"
   ]
  },
  {
   "cell_type": "markdown",
   "metadata": {},
   "source": [
    "$H_0$: выборки принадлежат одному и тому же распределению.  \n",
    "$H_1$: всё остальное."
   ]
  },
  {
   "cell_type": "code",
   "execution_count": 23,
   "metadata": {},
   "outputs": [],
   "source": [
    "table_a = np.array([[15, 47], [28, 31]])"
   ]
  },
  {
   "cell_type": "code",
   "execution_count": 24,
   "metadata": {},
   "outputs": [
    {
     "name": "stdout",
     "output_type": "stream",
     "text": [
      "p-value: 0.0084610194\n"
     ]
    }
   ],
   "source": [
    "ratio, p_value = sc.stats.fisher_exact(table_a)\n",
    "print('p-value: {:.10f}'.format(p_value))"
   ]
  }
 ],
 "metadata": {
  "kernelspec": {
   "display_name": "Python 3",
   "language": "python",
   "name": "python3"
  },
  "language_info": {
   "codemirror_mode": {
    "name": "ipython",
    "version": 3
   },
   "file_extension": ".py",
   "mimetype": "text/x-python",
   "name": "python",
   "nbconvert_exporter": "python",
   "pygments_lexer": "ipython3",
   "version": "3.7.1"
  }
 },
 "nbformat": 4,
 "nbformat_minor": 2
}
