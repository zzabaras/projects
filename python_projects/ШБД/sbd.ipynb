{
 "cells": [
  {
   "cell_type": "markdown",
   "metadata": {},
   "source": [
    "# Уроки ШБД\n"
   ]
  },
  {
   "cell_type": "code",
   "execution_count": null,
   "metadata": {},
   "outputs": [],
   "source": []
  },
  {
   "cell_type": "code",
   "execution_count": 3,
   "metadata": {},
   "outputs": [],
   "source": [
    "import numpy as np"
   ]
  },
  {
   "cell_type": "markdown",
   "metadata": {},
   "source": [
    "Формула: $S= pr^2$\n",
    "\n",
    "приклад напису формули"
   ]
  },
  {
   "cell_type": "markdown",
   "metadata": {},
   "source": [
    "2.1 Математичні дисципліни\n",
    "\n"
   ]
  },
  {
   "cell_type": "code",
   "execution_count": 5,
   "metadata": {},
   "outputs": [
    {
     "name": "stdout",
     "output_type": "stream",
     "text": [
      " Тип об'єкту data:  <class 'numpy.ndarray'>\n",
      "Тип елементів об'єкта:  float64\n",
      "Розмір об'єкту:  (2, 3)\n",
      "Розмірність:  2\n"
     ]
    }
   ],
   "source": [
    "data = np.array([[1.0, 2.0, 3.0], [4.0, 5.0, 6.0]])\n",
    "\n",
    "print(\" Тип об'єкту data: \", type(data))\n",
    "print(\"Тип елементів об'єкта: \", data.dtype)\n",
    "print(\"Розмір об'єкту: \", data.shape)\n",
    "print(\"Розмірність: \", data.ndim)\n",
    "\n"
   ]
  },
  {
   "cell_type": "code",
   "execution_count": 9,
   "metadata": {},
   "outputs": [
    {
     "name": "stdout",
     "output_type": "stream",
     "text": [
      "Масиви із всіх нулів: \n",
      "******************************\n",
      "[0. 0. 0. 0. 0. 0. 0. 0. 0. 0.]\n",
      "******************************\n",
      "[[0. 0. 0. 0. 0. 0.]\n",
      " [0. 0. 0. 0. 0. 0.]\n",
      " [0. 0. 0. 0. 0. 0.]]\n"
     ]
    }
   ],
   "source": [
    "print(\"Масиви із всіх нулів: \" )\n",
    "print(\"*\" * 30)\n",
    "print(np.zeros(10))\n",
    "print(\"*\"*30)\n",
    "print(np.zeros((3,6)))"
   ]
  },
  {
   "cell_type": "code",
   "execution_count": 10,
   "metadata": {},
   "outputs": [
    {
     "name": "stdout",
     "output_type": "stream",
     "text": [
      "Пустий масив: \n"
     ]
    },
    {
     "data": {
      "text/plain": [
       "array([[[6.95205606e-310, 1.12284989e-311],\n",
       "        [2.96439388e-323, 1.12284989e-311],\n",
       "        [1.89146896e-307, 1.12284989e-311]],\n",
       "\n",
       "       [[5.21645707e-037, 0.00000000e+000],\n",
       "        [1.12284989e-311, 1.12284989e-311],\n",
       "        [1.12284989e-311, 0.00000000e+000]]])"
      ]
     },
     "execution_count": 10,
     "metadata": {},
     "output_type": "execute_result"
    }
   ],
   "source": [
    "print(\"Пустий масив: \")\n",
    "np.empty((2,3,2))"
   ]
  },
  {
   "cell_type": "code",
   "execution_count": 11,
   "metadata": {},
   "outputs": [
    {
     "name": "stdout",
     "output_type": "stream",
     "text": [
      "Подібно функції range: \n",
      "[ 0  1  2  3  4  5  6  7  8  9 10 11 12 13 14]\n"
     ]
    }
   ],
   "source": [
    "print(\"Подібно функції range: \")\n",
    "print(np.arange(15))"
   ]
  },
  {
   "cell_type": "code",
   "execution_count": 12,
   "metadata": {},
   "outputs": [
    {
     "name": "stdout",
     "output_type": "stream",
     "text": [
      "тип масиву arr1:  float16\n",
      "тип масиву arr2:  int32\n"
     ]
    }
   ],
   "source": [
    "# типи даних\n",
    "arr1 = np.array([1,2,3], dtype=np.float16)\n",
    "arr2 = np.array([1,2,3], dtype=np.int32)\n",
    "print(\"тип масиву arr1: \", arr1.dtype)\n",
    "print(\"тип масиву arr2: \", arr2.dtype)"
   ]
  },
  {
   "cell_type": "code",
   "execution_count": 13,
   "metadata": {},
   "outputs": [
    {
     "name": "stdout",
     "output_type": "stream",
     "text": [
      "Перетворення типів даних: \n",
      "до int64\n",
      "після float64\n"
     ]
    }
   ],
   "source": [
    "print(\"Перетворення типів даних: \")\n",
    "arr = np.array([1,2,3,4,5])\n",
    "print(\"до\", arr.dtype)\n",
    "\n",
    "float_arr = arr.astype(np.float64)\n",
    "print(\"після\", float_arr.dtype)\n"
   ]
  },
  {
   "cell_type": "code",
   "execution_count": 21,
   "metadata": {},
   "outputs": [
    {
     "name": "stdout",
     "output_type": "stream",
     "text": [
      "до float64 [ 1.3  2.5  5.3 14.2  3.7]\n",
      "інт32 [ 1  2  5 14  3]\n"
     ]
    }
   ],
   "source": [
    "arr = np.array([1.3, 2.5, 5.3, 14.2, 3.7])\n",
    "print('до',arr.dtype, arr)\n",
    "print('інт32',arr.astype(np.int32))\n",
    "\n"
   ]
  },
  {
   "cell_type": "markdown",
   "metadata": {},
   "source": [
    "Арифметичні операції між масивами"
   ]
  },
  {
   "cell_type": "code",
   "execution_count": 26,
   "metadata": {},
   "outputs": [
    {
     "name": "stdout",
     "output_type": "stream",
     "text": [
      "[[1. 2. 3.]\n",
      " [4. 5. 6.]]\n",
      "[[4. 5. 6.]\n",
      " [1. 2. 3.]]\n",
      "******************************\n",
      "поелементне множення: \n",
      "[[ 4. 10. 18.]\n",
      " [ 4. 10. 18.]]\n",
      "******************************\n",
      "поелементне ділення: \n",
      "[[0.25 0.4  0.5 ]\n",
      " [4.   2.5  2.  ]]\n",
      "******************************\n",
      "поелементне додавання: \n",
      "[[5. 7. 9.]\n",
      " [5. 7. 9.]]\n",
      "******************************\n",
      "поелементне віднімання: \n",
      "[[-3. -3. -3.]\n",
      " [ 3.  3.  3.]]\n"
     ]
    }
   ],
   "source": [
    "arr1 = np.array([[1., 2., 3.],[4., 5., 6.]])\n",
    "arr2 = np.array([[4.,5.,6.],[1.,2.,3.]])\n",
    "print(arr1)\n",
    "print(arr2)\n",
    "\n",
    "print('*'*30)\n",
    "print('поелементне множення: ')\n",
    "print(arr1*arr2)\n",
    "\n",
    "print('*'*30)\n",
    "print(\"поелементне ділення: \")\n",
    "print(arr1/arr2)\n",
    "\n",
    "print('*'*30)\n",
    "print(\"поелементне додавання: \")\n",
    "print(arr1+arr2)\n",
    "\n",
    "print('*'*30)\n",
    "print(\"поелементне віднімання: \")\n",
    "print(arr1-arr2)\n",
    "\n"
   ]
  },
  {
   "cell_type": "code",
   "execution_count": 27,
   "metadata": {},
   "outputs": [
    {
     "name": "stdout",
     "output_type": "stream",
     "text": [
      "поелементне порівняння масивів:\n",
      "[[False False False]\n",
      " [ True  True  True]]\n"
     ]
    }
   ],
   "source": [
    "print(\"поелементне порівняння масивів:\")\n",
    "print(arr1>arr2)"
   ]
  },
  {
   "cell_type": "code",
   "execution_count": 28,
   "metadata": {},
   "outputs": [
    {
     "name": "stdout",
     "output_type": "stream",
     "text": [
      "операції зі скалякними величинами:\n",
      "[[ 5. 10. 15.]\n",
      " [20. 25. 30.]]\n",
      "[[0.2 0.4 0.6]\n",
      " [0.8 1.  1.2]]\n",
      "[[-4. -3. -2.]\n",
      " [-1.  0.  1.]]\n",
      "[[ 6.  7.  8.]\n",
      " [ 9. 10. 11.]]\n"
     ]
    }
   ],
   "source": [
    "print(\"операції зі скалякними величинами:\")\n",
    "print(arr1*5)\n",
    "print(arr1/5)\n",
    "print(arr1-5)\n",
    "print(arr1+5)"
   ]
  },
  {
   "cell_type": "code",
   "execution_count": 33,
   "metadata": {},
   "outputs": [
    {
     "name": "stdout",
     "output_type": "stream",
     "text": [
      "[0 1 2 3 4 5 6 7 8 9]\n",
      "квадарат\n",
      "[ 0  1  4  9 16 25 36 49 64 81]\n",
      "корінь\n",
      "[0.         1.         1.41421356 1.73205081 2.         2.23606798\n",
      " 2.44948974 2.64575131 2.82842712 3.        ]\n"
     ]
    }
   ],
   "source": [
    "arr = np.arange(10)\n",
    "print(arr)\n",
    "print('квадарат')\n",
    "print(np.square(arr))\n",
    "print('корінь')\n",
    "print(np.sqrt(arr))"
   ]
  },
  {
   "cell_type": "code",
   "execution_count": 34,
   "metadata": {},
   "outputs": [
    {
     "name": "stdout",
     "output_type": "stream",
     "text": [
      "[1.3, 1.2, 3.0, nan, 2.0, 1.0]\n",
      "перевірка на NaN\n",
      "[False False False  True False False]\n"
     ]
    }
   ],
   "source": [
    "arr = [1.3, 1.2, 3., np.nan, 2.0, 1.]\n",
    "print(arr)\n",
    "print('перевірка на NaN')\n",
    "print(np.isnan(arr))"
   ]
  },
  {
   "cell_type": "markdown",
   "metadata": {},
   "source": [
    "2.2.2 Індекси і вирізання"
   ]
  },
  {
   "cell_type": "code",
   "execution_count": 40,
   "metadata": {},
   "outputs": [
    {
     "name": "stdout",
     "output_type": "stream",
     "text": [
      "[[1 2 3]\n",
      " [4 5 6]\n",
      " [7 8 9]]\n",
      "2 строчка 0 стовбчик:  7\n",
      "2 строчка 0 стовбчик:  7\n",
      "строчка 0: [1 2 3]\n",
      "[[2 3]\n",
      " [5 6]]\n"
     ]
    }
   ],
   "source": [
    "arr = np.array([[1,2,3],[4,5,6],[7,8,9]])\n",
    "print( arr)\n",
    "print('2 строчка 0 стовбчик: ', arr[2][0])\n",
    "print('2 строчка 0 стовбчик: ', arr[2,0])\n",
    "print('строчка 0:', arr[0])\n",
    "print(arr[:2, 1:])"
   ]
  },
  {
   "attachments": {
    "image.png": {
     "image/png": "[encoded data removed]"
    }
   },
   "cell_type": "markdown",
   "metadata": {},
   "source": [
    "![image.png](attachment:image.png)"
   ]
  },
  {
   "cell_type": "markdown",
   "metadata": {},
   "source": [
    "Булієва індексація"
   ]
  },
  {
   "cell_type": "code",
   "execution_count": 42,
   "metadata": {},
   "outputs": [
    {
     "data": {
      "text/plain": [
       "array([[False, False,  True],\n",
       "       [ True,  True,  True],\n",
       "       [ True, False, False]])"
      ]
     },
     "execution_count": 42,
     "metadata": {},
     "output_type": "execute_result"
    }
   ],
   "source": [
    "bool_mask = (arr > 2) & (arr < 8)\n",
    "bool_mask"
   ]
  },
  {
   "cell_type": "code",
   "execution_count": 43,
   "metadata": {},
   "outputs": [
    {
     "data": {
      "text/plain": [
       "array([3, 4, 5, 6, 7])"
      ]
     },
     "execution_count": 43,
     "metadata": {},
     "output_type": "execute_result"
    }
   ],
   "source": [
    "arr[bool_mask]"
   ]
  },
  {
   "cell_type": "code",
   "execution_count": 45,
   "metadata": {},
   "outputs": [
    {
     "name": "stdout",
     "output_type": "stream",
     "text": [
      "заміна елементів не відповідаючих умові: \n",
      "* при використанні булевої індексації: \n",
      "[[3 3 3]\n",
      " [4 5 6]\n",
      " [7 3 3]]\n",
      "при використанні np.where: \n",
      "[[3 3 3]\n",
      " [4 5 6]\n",
      " [7 3 3]]\n"
     ]
    }
   ],
   "source": [
    "print('заміна елементів не відповідаючих умові: ')\n",
    "arr_cut = arr.copy()\n",
    "arr_cut[~bool_mask] = 3\n",
    "print('* при використанні булевої індексації: ')\n",
    "print(arr_cut)\n",
    "\n",
    "print('при використанні np.where: ')\n",
    "print(np.where(bool_mask, arr, 3))"
   ]
  },
  {
   "cell_type": "markdown",
   "metadata": {},
   "source": [
    "Вибаглива індексація"
   ]
  },
  {
   "cell_type": "code",
   "execution_count": 46,
   "metadata": {},
   "outputs": [],
   "source": [
    "np.random.seed(1000)"
   ]
  },
  {
   "cell_type": "code",
   "execution_count": 47,
   "metadata": {},
   "outputs": [
    {
     "name": "stdout",
     "output_type": "stream",
     "text": [
      "[[3 0 3 4 1 0 1 0 1 4]\n",
      " [3 4 4 2 2 1 4 4 2 1]\n",
      " [0 2 4 4 2 4 2 4 3 4]\n",
      " [3 0 4 2 2 4 0 4 4 3]\n",
      " [1 3 3 0 2 1 3 3 1 3]\n",
      " [4 3 0 0 2 2 3 1 2 2]\n",
      " [3 3 0 4 1 0 1 1 0 0]\n",
      " [0 2 3 1 3 2 1 2 1 0]\n",
      " [3 1 4 3 3 3 4 3 0 1]\n",
      " [3 2 0 4 4 1 1 4 1 4]]\n"
     ]
    }
   ],
   "source": [
    "arr1 = np.random.randint(5, size=(10,10))\n",
    "print(arr1)"
   ]
  },
  {
   "cell_type": "code",
   "execution_count": 48,
   "metadata": {},
   "outputs": [
    {
     "name": "stdout",
     "output_type": "stream",
     "text": [
      "Підвибірка із рядків 1, 3, 4, 8\n"
     ]
    },
    {
     "data": {
      "text/plain": [
       "array([[3, 4, 4, 2, 2, 1, 4, 4, 2, 1],\n",
       "       [3, 0, 4, 2, 2, 4, 0, 4, 4, 3],\n",
       "       [1, 3, 3, 0, 2, 1, 3, 3, 1, 3],\n",
       "       [3, 1, 4, 3, 3, 3, 4, 3, 0, 1]], dtype=int32)"
      ]
     },
     "execution_count": 48,
     "metadata": {},
     "output_type": "execute_result"
    }
   ],
   "source": [
    "print(\"Підвибірка із рядків 1, 3, 4, 8\")\n",
    "arr1[[1,3,4,8]]"
   ]
  },
  {
   "cell_type": "code",
   "execution_count": 49,
   "metadata": {},
   "outputs": [
    {
     "name": "stdout",
     "output_type": "stream",
     "text": [
      "Підвибірка із стовпців 1, 3, 4, 8\n"
     ]
    },
    {
     "data": {
      "text/plain": [
       "array([[0, 4, 1, 1],\n",
       "       [4, 2, 2, 2],\n",
       "       [2, 4, 2, 3],\n",
       "       [0, 2, 2, 4],\n",
       "       [3, 0, 2, 1],\n",
       "       [3, 0, 2, 2],\n",
       "       [3, 4, 1, 0],\n",
       "       [2, 1, 3, 1],\n",
       "       [1, 3, 3, 0],\n",
       "       [2, 4, 4, 1]], dtype=int32)"
      ]
     },
     "execution_count": 49,
     "metadata": {},
     "output_type": "execute_result"
    }
   ],
   "source": [
    "print(\"Підвибірка із стовпців 1, 3, 4, 8\")\n",
    "arr1[:,[1,3,4,8]]"
   ]
  },
  {
   "cell_type": "code",
   "execution_count": 50,
   "metadata": {},
   "outputs": [
    {
     "name": "stdout",
     "output_type": "stream",
     "text": [
      "Підвибірка елементів які стоять на перетині рядків і стовпців 1, 3, 4, 8\n"
     ]
    },
    {
     "data": {
      "text/plain": [
       "array([4, 2, 2, 0], dtype=int32)"
      ]
     },
     "execution_count": 50,
     "metadata": {},
     "output_type": "execute_result"
    }
   ],
   "source": [
    "print(\"Підвибірка елементів які стоять на перетині рядків і стовпців 1, 3, 4, 8\")\n",
    "arr1[[1,3,4,8],[1,3,4,8]]"
   ]
  },
  {
   "cell_type": "markdown",
   "metadata": {},
   "source": [
    "2.2.3"
   ]
  },
  {
   "cell_type": "code",
   "execution_count": null,
   "metadata": {},
   "outputs": [],
   "source": []
  },
  {
   "cell_type": "code",
   "execution_count": null,
   "metadata": {},
   "outputs": [],
   "source": []
  }
 ],
 "metadata": {
  "kernelspec": {
   "display_name": "Python 3",
   "language": "python",
   "name": "python3"
  },
  "language_info": {
   "codemirror_mode": {
    "name": "ipython",
    "version": 3
   },
   "file_extension": ".py",
   "mimetype": "text/x-python",
   "name": "python",
   "nbconvert_exporter": "python",
   "pygments_lexer": "ipython3",
   "version": "3.12.3"
  }
 },
 "nbformat": 4,
 "nbformat_minor": 2
}
